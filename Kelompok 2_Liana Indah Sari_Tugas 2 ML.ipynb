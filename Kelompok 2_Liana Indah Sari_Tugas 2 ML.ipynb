{
 "cells": [
  {
   "cell_type": "markdown",
   "id": "08ee86b5-e187-4da9-b4ae-ede34d5b0e3e",
   "metadata": {},
   "source": [
    "## MELBOURNE HOUSING"
   ]
  },
  {
   "cell_type": "markdown",
   "id": "6fa4979b-4c1c-45e8-8ddd-bf2be01c156e",
   "metadata": {},
   "source": [
    "Sumber Data : https://drive.google.com/file/d/1ptfLP18cAUGs7ZwAx1CzwGIIki0CTiBu/view?usp=sharing\n",
    "\n",
    "Melbourne is currently experiencing a housing bubble, (some experts say it may burst soon)."
   ]
  },
  {
   "cell_type": "markdown",
   "id": "e6ec4be4-ce4d-460f-b665-3c63cf02ddf4",
   "metadata": {
    "tags": []
   },
   "source": [
    "### FEATURES DESCRIPTION"
   ]
  },
  {
   "cell_type": "markdown",
   "id": "b2dcbc6f-5742-4a06-9060-418f1098af38",
   "metadata": {},
   "source": [
    "**Suburb**: Suburb\n",
    "\n",
    "**Address**: Address\n",
    "\n",
    "**Rooms**: Number of rooms\n",
    "\n",
    "**Price**: Price in Australian dollars\n",
    "\n",
    "**Method:**\n",
    "- S - property sold;\n",
    "- SP - property sold prior;\n",
    "- PI - property passed in;\n",
    "- PN - sold prior not disclosed;\n",
    "- SN - sold not disclosed;\n",
    "- NB - no bid;\n",
    "- VB - vendor bid;\n",
    "- W - withdrawn prior to auction;\n",
    "- SA - sold after auction;\n",
    "- SS - sold after auction price not disclosed.\n",
    "- N/A - price or highest bid not available.\n",
    "\n",
    "**Type:**\n",
    "- br - bedroom(s);\n",
    "- h - house,cottage,villa, semi,terrace;\n",
    "- u - unit, duplex;\n",
    "- t - townhouse;\n",
    "- dev site - development site;\n",
    "- o res - other residential.\n",
    "\n",
    "**SellerG**: Real Estate Agent\n",
    "\n",
    "**Date**: Date sold\n",
    "\n",
    "**Distance**: Distance from CBD in Kilometres\n",
    "\n",
    "**Regionname**: General Region (West, North West, North, North east …etc)\n",
    "\n",
    "**Propertycount**: Number of properties that exist in the suburb.\n",
    "\n",
    "**Bedroom2** : Scraped # of Bedrooms (from different source)\n",
    "\n",
    "**Bathroom**: Number of Bathrooms\n",
    "\n",
    "**Car**: Number of carspots\n",
    "\n",
    "**Landsize**: Land Size in Metres\n",
    "\n",
    "**BuildingArea**: Building Size in Metres\n",
    "\n",
    "**YearBuilt**: Year the house was built\n",
    "\n",
    "**CouncilArea**: Governing council for the area\n",
    "\n",
    "**Lattitude**: Self explanitory\n",
    "\n",
    "**Longtitude**: Self explanitory"
   ]
  },
  {
   "cell_type": "markdown",
   "id": "c8c9f141-7dc6-468f-8548-45259b738748",
   "metadata": {
    "tags": []
   },
   "source": [
    "### IMPORT LIBRARIES"
   ]
  },
  {
   "cell_type": "code",
   "execution_count": 1,
   "id": "568d6636-f7d5-4953-87c2-0da678f5eee4",
   "metadata": {},
   "outputs": [],
   "source": [
    "# import library\n",
    "import numpy as np\n",
    "import pandas as pd\n",
    "import matplotlib.pyplot as plt\n",
    "import seaborn as sns\n",
    "from scipy import stats\n",
    "from sklearn.preprocessing import StandardScaler, MinMaxScaler, MaxAbsScaler, RobustScaler\n",
    "from sklearn.preprocessing import LabelEncoder, OrdinalEncoder\n",
    "\n",
    "import warnings\n",
    "warnings.filterwarnings(\"ignore\")"
   ]
  },
  {
   "cell_type": "markdown",
   "id": "871f4f50-e977-4fd1-b3e1-92986ba5046e",
   "metadata": {},
   "source": [
    "### DATA QUALITY CHECKING"
   ]
  },
  {
   "cell_type": "code",
   "execution_count": 2,
   "id": "85fdd6f1-3d5a-419a-8f9d-bf3d83a0c039",
   "metadata": {},
   "outputs": [],
   "source": [
    "# load data\n",
    "df = pd.read_csv(\"Melbourne_housing_FULL.csv\")"
   ]
  },
  {
   "cell_type": "code",
   "execution_count": 3,
   "id": "012a18bc-0bd4-4308-b8af-fbc258bba85f",
   "metadata": {},
   "outputs": [
    {
     "data": {
      "text/html": [
       "<div>\n",
       "<style scoped>\n",
       "    .dataframe tbody tr th:only-of-type {\n",
       "        vertical-align: middle;\n",
       "    }\n",
       "\n",
       "    .dataframe tbody tr th {\n",
       "        vertical-align: top;\n",
       "    }\n",
       "\n",
       "    .dataframe thead th {\n",
       "        text-align: right;\n",
       "    }\n",
       "</style>\n",
       "<table border=\"1\" class=\"dataframe\">\n",
       "  <thead>\n",
       "    <tr style=\"text-align: right;\">\n",
       "      <th></th>\n",
       "      <th>Suburb</th>\n",
       "      <th>Address</th>\n",
       "      <th>Rooms</th>\n",
       "      <th>Type</th>\n",
       "      <th>Price</th>\n",
       "      <th>Method</th>\n",
       "      <th>SellerG</th>\n",
       "      <th>Date</th>\n",
       "      <th>Distance</th>\n",
       "      <th>Postcode</th>\n",
       "      <th>...</th>\n",
       "      <th>Bathroom</th>\n",
       "      <th>Car</th>\n",
       "      <th>Landsize</th>\n",
       "      <th>BuildingArea</th>\n",
       "      <th>YearBuilt</th>\n",
       "      <th>CouncilArea</th>\n",
       "      <th>Lattitude</th>\n",
       "      <th>Longtitude</th>\n",
       "      <th>Regionname</th>\n",
       "      <th>Propertycount</th>\n",
       "    </tr>\n",
       "  </thead>\n",
       "  <tbody>\n",
       "    <tr>\n",
       "      <th>0</th>\n",
       "      <td>Abbotsford</td>\n",
       "      <td>68 Studley St</td>\n",
       "      <td>2</td>\n",
       "      <td>h</td>\n",
       "      <td>NaN</td>\n",
       "      <td>SS</td>\n",
       "      <td>Jellis</td>\n",
       "      <td>3/09/2016</td>\n",
       "      <td>2.5</td>\n",
       "      <td>3067.0</td>\n",
       "      <td>...</td>\n",
       "      <td>1.0</td>\n",
       "      <td>1.0</td>\n",
       "      <td>126.0</td>\n",
       "      <td>NaN</td>\n",
       "      <td>NaN</td>\n",
       "      <td>Yarra City Council</td>\n",
       "      <td>-37.8014</td>\n",
       "      <td>144.9958</td>\n",
       "      <td>Northern Metropolitan</td>\n",
       "      <td>4019.0</td>\n",
       "    </tr>\n",
       "    <tr>\n",
       "      <th>1</th>\n",
       "      <td>Abbotsford</td>\n",
       "      <td>85 Turner St</td>\n",
       "      <td>2</td>\n",
       "      <td>h</td>\n",
       "      <td>1480000.0</td>\n",
       "      <td>S</td>\n",
       "      <td>Biggin</td>\n",
       "      <td>3/12/2016</td>\n",
       "      <td>2.5</td>\n",
       "      <td>3067.0</td>\n",
       "      <td>...</td>\n",
       "      <td>1.0</td>\n",
       "      <td>1.0</td>\n",
       "      <td>202.0</td>\n",
       "      <td>NaN</td>\n",
       "      <td>NaN</td>\n",
       "      <td>Yarra City Council</td>\n",
       "      <td>-37.7996</td>\n",
       "      <td>144.9984</td>\n",
       "      <td>Northern Metropolitan</td>\n",
       "      <td>4019.0</td>\n",
       "    </tr>\n",
       "    <tr>\n",
       "      <th>2</th>\n",
       "      <td>Abbotsford</td>\n",
       "      <td>25 Bloomburg St</td>\n",
       "      <td>2</td>\n",
       "      <td>h</td>\n",
       "      <td>1035000.0</td>\n",
       "      <td>S</td>\n",
       "      <td>Biggin</td>\n",
       "      <td>4/02/2016</td>\n",
       "      <td>2.5</td>\n",
       "      <td>3067.0</td>\n",
       "      <td>...</td>\n",
       "      <td>1.0</td>\n",
       "      <td>0.0</td>\n",
       "      <td>156.0</td>\n",
       "      <td>79.0</td>\n",
       "      <td>1900.0</td>\n",
       "      <td>Yarra City Council</td>\n",
       "      <td>-37.8079</td>\n",
       "      <td>144.9934</td>\n",
       "      <td>Northern Metropolitan</td>\n",
       "      <td>4019.0</td>\n",
       "    </tr>\n",
       "    <tr>\n",
       "      <th>3</th>\n",
       "      <td>Abbotsford</td>\n",
       "      <td>18/659 Victoria St</td>\n",
       "      <td>3</td>\n",
       "      <td>u</td>\n",
       "      <td>NaN</td>\n",
       "      <td>VB</td>\n",
       "      <td>Rounds</td>\n",
       "      <td>4/02/2016</td>\n",
       "      <td>2.5</td>\n",
       "      <td>3067.0</td>\n",
       "      <td>...</td>\n",
       "      <td>2.0</td>\n",
       "      <td>1.0</td>\n",
       "      <td>0.0</td>\n",
       "      <td>NaN</td>\n",
       "      <td>NaN</td>\n",
       "      <td>Yarra City Council</td>\n",
       "      <td>-37.8114</td>\n",
       "      <td>145.0116</td>\n",
       "      <td>Northern Metropolitan</td>\n",
       "      <td>4019.0</td>\n",
       "    </tr>\n",
       "    <tr>\n",
       "      <th>4</th>\n",
       "      <td>Abbotsford</td>\n",
       "      <td>5 Charles St</td>\n",
       "      <td>3</td>\n",
       "      <td>h</td>\n",
       "      <td>1465000.0</td>\n",
       "      <td>SP</td>\n",
       "      <td>Biggin</td>\n",
       "      <td>4/03/2017</td>\n",
       "      <td>2.5</td>\n",
       "      <td>3067.0</td>\n",
       "      <td>...</td>\n",
       "      <td>2.0</td>\n",
       "      <td>0.0</td>\n",
       "      <td>134.0</td>\n",
       "      <td>150.0</td>\n",
       "      <td>1900.0</td>\n",
       "      <td>Yarra City Council</td>\n",
       "      <td>-37.8093</td>\n",
       "      <td>144.9944</td>\n",
       "      <td>Northern Metropolitan</td>\n",
       "      <td>4019.0</td>\n",
       "    </tr>\n",
       "  </tbody>\n",
       "</table>\n",
       "<p>5 rows × 21 columns</p>\n",
       "</div>"
      ],
      "text/plain": [
       "       Suburb             Address  Rooms Type      Price Method SellerG  \\\n",
       "0  Abbotsford       68 Studley St      2    h        NaN     SS  Jellis   \n",
       "1  Abbotsford        85 Turner St      2    h  1480000.0      S  Biggin   \n",
       "2  Abbotsford     25 Bloomburg St      2    h  1035000.0      S  Biggin   \n",
       "3  Abbotsford  18/659 Victoria St      3    u        NaN     VB  Rounds   \n",
       "4  Abbotsford        5 Charles St      3    h  1465000.0     SP  Biggin   \n",
       "\n",
       "        Date  Distance  Postcode  ...  Bathroom  Car  Landsize  BuildingArea  \\\n",
       "0  3/09/2016       2.5    3067.0  ...       1.0  1.0     126.0           NaN   \n",
       "1  3/12/2016       2.5    3067.0  ...       1.0  1.0     202.0           NaN   \n",
       "2  4/02/2016       2.5    3067.0  ...       1.0  0.0     156.0          79.0   \n",
       "3  4/02/2016       2.5    3067.0  ...       2.0  1.0       0.0           NaN   \n",
       "4  4/03/2017       2.5    3067.0  ...       2.0  0.0     134.0         150.0   \n",
       "\n",
       "   YearBuilt         CouncilArea Lattitude  Longtitude             Regionname  \\\n",
       "0        NaN  Yarra City Council  -37.8014    144.9958  Northern Metropolitan   \n",
       "1        NaN  Yarra City Council  -37.7996    144.9984  Northern Metropolitan   \n",
       "2     1900.0  Yarra City Council  -37.8079    144.9934  Northern Metropolitan   \n",
       "3        NaN  Yarra City Council  -37.8114    145.0116  Northern Metropolitan   \n",
       "4     1900.0  Yarra City Council  -37.8093    144.9944  Northern Metropolitan   \n",
       "\n",
       "  Propertycount  \n",
       "0        4019.0  \n",
       "1        4019.0  \n",
       "2        4019.0  \n",
       "3        4019.0  \n",
       "4        4019.0  \n",
       "\n",
       "[5 rows x 21 columns]"
      ]
     },
     "execution_count": 3,
     "metadata": {},
     "output_type": "execute_result"
    }
   ],
   "source": [
    "# check head\n",
    "df.head()"
   ]
  },
  {
   "cell_type": "code",
   "execution_count": 4,
   "id": "1a940ca3-2970-44a6-ac4a-b266250037d3",
   "metadata": {
    "tags": []
   },
   "outputs": [
    {
     "data": {
      "text/html": [
       "<div>\n",
       "<style scoped>\n",
       "    .dataframe tbody tr th:only-of-type {\n",
       "        vertical-align: middle;\n",
       "    }\n",
       "\n",
       "    .dataframe tbody tr th {\n",
       "        vertical-align: top;\n",
       "    }\n",
       "\n",
       "    .dataframe thead th {\n",
       "        text-align: right;\n",
       "    }\n",
       "</style>\n",
       "<table border=\"1\" class=\"dataframe\">\n",
       "  <thead>\n",
       "    <tr style=\"text-align: right;\">\n",
       "      <th></th>\n",
       "      <th>Suburb</th>\n",
       "      <th>Address</th>\n",
       "      <th>Rooms</th>\n",
       "      <th>Type</th>\n",
       "      <th>Price</th>\n",
       "      <th>Method</th>\n",
       "      <th>SellerG</th>\n",
       "      <th>Date</th>\n",
       "      <th>Distance</th>\n",
       "      <th>Postcode</th>\n",
       "      <th>...</th>\n",
       "      <th>Bathroom</th>\n",
       "      <th>Car</th>\n",
       "      <th>Landsize</th>\n",
       "      <th>BuildingArea</th>\n",
       "      <th>YearBuilt</th>\n",
       "      <th>CouncilArea</th>\n",
       "      <th>Lattitude</th>\n",
       "      <th>Longtitude</th>\n",
       "      <th>Regionname</th>\n",
       "      <th>Propertycount</th>\n",
       "    </tr>\n",
       "  </thead>\n",
       "  <tbody>\n",
       "    <tr>\n",
       "      <th>34852</th>\n",
       "      <td>Yarraville</td>\n",
       "      <td>13 Burns St</td>\n",
       "      <td>4</td>\n",
       "      <td>h</td>\n",
       "      <td>1480000.0</td>\n",
       "      <td>PI</td>\n",
       "      <td>Jas</td>\n",
       "      <td>24/02/2018</td>\n",
       "      <td>6.3</td>\n",
       "      <td>3013.0</td>\n",
       "      <td>...</td>\n",
       "      <td>1.0</td>\n",
       "      <td>3.0</td>\n",
       "      <td>593.0</td>\n",
       "      <td>NaN</td>\n",
       "      <td>NaN</td>\n",
       "      <td>Maribyrnong City Council</td>\n",
       "      <td>-37.81053</td>\n",
       "      <td>144.88467</td>\n",
       "      <td>Western Metropolitan</td>\n",
       "      <td>6543.0</td>\n",
       "    </tr>\n",
       "    <tr>\n",
       "      <th>34853</th>\n",
       "      <td>Yarraville</td>\n",
       "      <td>29A Murray St</td>\n",
       "      <td>2</td>\n",
       "      <td>h</td>\n",
       "      <td>888000.0</td>\n",
       "      <td>SP</td>\n",
       "      <td>Sweeney</td>\n",
       "      <td>24/02/2018</td>\n",
       "      <td>6.3</td>\n",
       "      <td>3013.0</td>\n",
       "      <td>...</td>\n",
       "      <td>2.0</td>\n",
       "      <td>1.0</td>\n",
       "      <td>98.0</td>\n",
       "      <td>104.0</td>\n",
       "      <td>2018.0</td>\n",
       "      <td>Maribyrnong City Council</td>\n",
       "      <td>-37.81551</td>\n",
       "      <td>144.88826</td>\n",
       "      <td>Western Metropolitan</td>\n",
       "      <td>6543.0</td>\n",
       "    </tr>\n",
       "    <tr>\n",
       "      <th>34854</th>\n",
       "      <td>Yarraville</td>\n",
       "      <td>147A Severn St</td>\n",
       "      <td>2</td>\n",
       "      <td>t</td>\n",
       "      <td>705000.0</td>\n",
       "      <td>S</td>\n",
       "      <td>Jas</td>\n",
       "      <td>24/02/2018</td>\n",
       "      <td>6.3</td>\n",
       "      <td>3013.0</td>\n",
       "      <td>...</td>\n",
       "      <td>1.0</td>\n",
       "      <td>2.0</td>\n",
       "      <td>220.0</td>\n",
       "      <td>120.0</td>\n",
       "      <td>2000.0</td>\n",
       "      <td>Maribyrnong City Council</td>\n",
       "      <td>-37.82286</td>\n",
       "      <td>144.87856</td>\n",
       "      <td>Western Metropolitan</td>\n",
       "      <td>6543.0</td>\n",
       "    </tr>\n",
       "    <tr>\n",
       "      <th>34855</th>\n",
       "      <td>Yarraville</td>\n",
       "      <td>12/37 Stephen St</td>\n",
       "      <td>3</td>\n",
       "      <td>h</td>\n",
       "      <td>1140000.0</td>\n",
       "      <td>SP</td>\n",
       "      <td>hockingstuart</td>\n",
       "      <td>24/02/2018</td>\n",
       "      <td>6.3</td>\n",
       "      <td>3013.0</td>\n",
       "      <td>...</td>\n",
       "      <td>NaN</td>\n",
       "      <td>NaN</td>\n",
       "      <td>NaN</td>\n",
       "      <td>NaN</td>\n",
       "      <td>NaN</td>\n",
       "      <td>Maribyrnong City Council</td>\n",
       "      <td>NaN</td>\n",
       "      <td>NaN</td>\n",
       "      <td>Western Metropolitan</td>\n",
       "      <td>6543.0</td>\n",
       "    </tr>\n",
       "    <tr>\n",
       "      <th>34856</th>\n",
       "      <td>Yarraville</td>\n",
       "      <td>3 Tarrengower St</td>\n",
       "      <td>2</td>\n",
       "      <td>h</td>\n",
       "      <td>1020000.0</td>\n",
       "      <td>PI</td>\n",
       "      <td>RW</td>\n",
       "      <td>24/02/2018</td>\n",
       "      <td>6.3</td>\n",
       "      <td>3013.0</td>\n",
       "      <td>...</td>\n",
       "      <td>1.0</td>\n",
       "      <td>0.0</td>\n",
       "      <td>250.0</td>\n",
       "      <td>103.0</td>\n",
       "      <td>1930.0</td>\n",
       "      <td>Maribyrnong City Council</td>\n",
       "      <td>-37.81810</td>\n",
       "      <td>144.89351</td>\n",
       "      <td>Western Metropolitan</td>\n",
       "      <td>6543.0</td>\n",
       "    </tr>\n",
       "  </tbody>\n",
       "</table>\n",
       "<p>5 rows × 21 columns</p>\n",
       "</div>"
      ],
      "text/plain": [
       "           Suburb           Address  Rooms Type      Price Method  \\\n",
       "34852  Yarraville       13 Burns St      4    h  1480000.0     PI   \n",
       "34853  Yarraville     29A Murray St      2    h   888000.0     SP   \n",
       "34854  Yarraville    147A Severn St      2    t   705000.0      S   \n",
       "34855  Yarraville  12/37 Stephen St      3    h  1140000.0     SP   \n",
       "34856  Yarraville  3 Tarrengower St      2    h  1020000.0     PI   \n",
       "\n",
       "             SellerG        Date  Distance  Postcode  ...  Bathroom  Car  \\\n",
       "34852            Jas  24/02/2018       6.3    3013.0  ...       1.0  3.0   \n",
       "34853        Sweeney  24/02/2018       6.3    3013.0  ...       2.0  1.0   \n",
       "34854            Jas  24/02/2018       6.3    3013.0  ...       1.0  2.0   \n",
       "34855  hockingstuart  24/02/2018       6.3    3013.0  ...       NaN  NaN   \n",
       "34856             RW  24/02/2018       6.3    3013.0  ...       1.0  0.0   \n",
       "\n",
       "       Landsize  BuildingArea  YearBuilt               CouncilArea Lattitude  \\\n",
       "34852     593.0           NaN        NaN  Maribyrnong City Council -37.81053   \n",
       "34853      98.0         104.0     2018.0  Maribyrnong City Council -37.81551   \n",
       "34854     220.0         120.0     2000.0  Maribyrnong City Council -37.82286   \n",
       "34855       NaN           NaN        NaN  Maribyrnong City Council       NaN   \n",
       "34856     250.0         103.0     1930.0  Maribyrnong City Council -37.81810   \n",
       "\n",
       "       Longtitude            Regionname Propertycount  \n",
       "34852   144.88467  Western Metropolitan        6543.0  \n",
       "34853   144.88826  Western Metropolitan        6543.0  \n",
       "34854   144.87856  Western Metropolitan        6543.0  \n",
       "34855         NaN  Western Metropolitan        6543.0  \n",
       "34856   144.89351  Western Metropolitan        6543.0  \n",
       "\n",
       "[5 rows x 21 columns]"
      ]
     },
     "execution_count": 4,
     "metadata": {},
     "output_type": "execute_result"
    }
   ],
   "source": [
    "# check tail\n",
    "df.tail()"
   ]
  },
  {
   "cell_type": "code",
   "execution_count": 5,
   "id": "ff46a20b-ece1-47a8-98d0-a3251edda2a5",
   "metadata": {},
   "outputs": [
    {
     "data": {
      "text/plain": [
       "(34857, 21)"
      ]
     },
     "execution_count": 5,
     "metadata": {},
     "output_type": "execute_result"
    }
   ],
   "source": [
    "# check shape\n",
    "df.shape"
   ]
  },
  {
   "cell_type": "code",
   "execution_count": 6,
   "id": "ac2efffd-bb11-4da1-8d7c-455bbe91102b",
   "metadata": {
    "tags": []
   },
   "outputs": [
    {
     "name": "stdout",
     "output_type": "stream",
     "text": [
      "<class 'pandas.core.frame.DataFrame'>\n",
      "RangeIndex: 34857 entries, 0 to 34856\n",
      "Data columns (total 21 columns):\n",
      " #   Column         Non-Null Count  Dtype  \n",
      "---  ------         --------------  -----  \n",
      " 0   Suburb         34857 non-null  object \n",
      " 1   Address        34857 non-null  object \n",
      " 2   Rooms          34857 non-null  int64  \n",
      " 3   Type           34857 non-null  object \n",
      " 4   Price          27247 non-null  float64\n",
      " 5   Method         34857 non-null  object \n",
      " 6   SellerG        34857 non-null  object \n",
      " 7   Date           34857 non-null  object \n",
      " 8   Distance       34856 non-null  float64\n",
      " 9   Postcode       34856 non-null  float64\n",
      " 10  Bedroom2       26640 non-null  float64\n",
      " 11  Bathroom       26631 non-null  float64\n",
      " 12  Car            26129 non-null  float64\n",
      " 13  Landsize       23047 non-null  float64\n",
      " 14  BuildingArea   13742 non-null  float64\n",
      " 15  YearBuilt      15551 non-null  float64\n",
      " 16  CouncilArea    34854 non-null  object \n",
      " 17  Lattitude      26881 non-null  float64\n",
      " 18  Longtitude     26881 non-null  float64\n",
      " 19  Regionname     34854 non-null  object \n",
      " 20  Propertycount  34854 non-null  float64\n",
      "dtypes: float64(12), int64(1), object(8)\n",
      "memory usage: 5.6+ MB\n"
     ]
    }
   ],
   "source": [
    "# check info\n",
    "df.info()"
   ]
  },
  {
   "cell_type": "code",
   "execution_count": 7,
   "id": "6bf60ddd-f1af-4538-880f-d77706db32c7",
   "metadata": {
    "tags": []
   },
   "outputs": [
    {
     "data": {
      "text/html": [
       "<div>\n",
       "<style scoped>\n",
       "    .dataframe tbody tr th:only-of-type {\n",
       "        vertical-align: middle;\n",
       "    }\n",
       "\n",
       "    .dataframe tbody tr th {\n",
       "        vertical-align: top;\n",
       "    }\n",
       "\n",
       "    .dataframe thead th {\n",
       "        text-align: right;\n",
       "    }\n",
       "</style>\n",
       "<table border=\"1\" class=\"dataframe\">\n",
       "  <thead>\n",
       "    <tr style=\"text-align: right;\">\n",
       "      <th></th>\n",
       "      <th>column</th>\n",
       "      <th>null values</th>\n",
       "      <th>unique number</th>\n",
       "      <th>values</th>\n",
       "    </tr>\n",
       "  </thead>\n",
       "  <tbody>\n",
       "    <tr>\n",
       "      <th>0</th>\n",
       "      <td>Suburb</td>\n",
       "      <td>0</td>\n",
       "      <td>351</td>\n",
       "      <td>[Abbotsford, Airport West, Albert Park, Alphin...</td>\n",
       "    </tr>\n",
       "    <tr>\n",
       "      <th>1</th>\n",
       "      <td>Address</td>\n",
       "      <td>0</td>\n",
       "      <td>34009</td>\n",
       "      <td>[68 Studley St, 85 Turner St, 25 Bloomburg St,...</td>\n",
       "    </tr>\n",
       "    <tr>\n",
       "      <th>2</th>\n",
       "      <td>Rooms</td>\n",
       "      <td>0</td>\n",
       "      <td>12</td>\n",
       "      <td>[2, 3, 4, 1, 5, 6, 7, 8, 10, 9, 12, 16]</td>\n",
       "    </tr>\n",
       "    <tr>\n",
       "      <th>3</th>\n",
       "      <td>Type</td>\n",
       "      <td>0</td>\n",
       "      <td>3</td>\n",
       "      <td>[h, u, t]</td>\n",
       "    </tr>\n",
       "    <tr>\n",
       "      <th>4</th>\n",
       "      <td>Price</td>\n",
       "      <td>7610</td>\n",
       "      <td>2871</td>\n",
       "      <td>[nan, 1480000.0, 1035000.0, 1465000.0, 850000....</td>\n",
       "    </tr>\n",
       "    <tr>\n",
       "      <th>5</th>\n",
       "      <td>Method</td>\n",
       "      <td>0</td>\n",
       "      <td>9</td>\n",
       "      <td>[SS, S, VB, SP, PI, SN, W, PN, SA]</td>\n",
       "    </tr>\n",
       "    <tr>\n",
       "      <th>6</th>\n",
       "      <td>SellerG</td>\n",
       "      <td>0</td>\n",
       "      <td>388</td>\n",
       "      <td>[Jellis, Biggin, Rounds, Nelson, Collins, Ding...</td>\n",
       "    </tr>\n",
       "    <tr>\n",
       "      <th>7</th>\n",
       "      <td>Date</td>\n",
       "      <td>0</td>\n",
       "      <td>78</td>\n",
       "      <td>[3/09/2016, 3/12/2016, 4/02/2016, 4/03/2017, 4...</td>\n",
       "    </tr>\n",
       "    <tr>\n",
       "      <th>8</th>\n",
       "      <td>Distance</td>\n",
       "      <td>1</td>\n",
       "      <td>215</td>\n",
       "      <td>[2.5, 13.5, 3.3, 6.4, 13.8, 11.1, 6.3, 5.9, 11...</td>\n",
       "    </tr>\n",
       "    <tr>\n",
       "      <th>9</th>\n",
       "      <td>Postcode</td>\n",
       "      <td>1</td>\n",
       "      <td>211</td>\n",
       "      <td>[3067.0, 3042.0, 3206.0, 3078.0, 3018.0, 3025....</td>\n",
       "    </tr>\n",
       "    <tr>\n",
       "      <th>10</th>\n",
       "      <td>Bedroom2</td>\n",
       "      <td>8217</td>\n",
       "      <td>15</td>\n",
       "      <td>[2.0, 3.0, 4.0, 6.0, nan, 1.0, 5.0, 7.0, 0.0, ...</td>\n",
       "    </tr>\n",
       "    <tr>\n",
       "      <th>11</th>\n",
       "      <td>Bathroom</td>\n",
       "      <td>8226</td>\n",
       "      <td>11</td>\n",
       "      <td>[1.0, 2.0, nan, 3.0, 7.0, 4.0, 0.0, 5.0, 6.0, ...</td>\n",
       "    </tr>\n",
       "    <tr>\n",
       "      <th>12</th>\n",
       "      <td>Car</td>\n",
       "      <td>8728</td>\n",
       "      <td>15</td>\n",
       "      <td>[1.0, 0.0, 2.0, nan, 6.0, 5.0, 4.0, 3.0, 8.0, ...</td>\n",
       "    </tr>\n",
       "    <tr>\n",
       "      <th>13</th>\n",
       "      <td>Landsize</td>\n",
       "      <td>11810</td>\n",
       "      <td>1684</td>\n",
       "      <td>[126.0, 202.0, 156.0, 0.0, 134.0, 94.0, 120.0,...</td>\n",
       "    </tr>\n",
       "    <tr>\n",
       "      <th>14</th>\n",
       "      <td>BuildingArea</td>\n",
       "      <td>21115</td>\n",
       "      <td>740</td>\n",
       "      <td>[nan, 79.0, 150.0, 142.0, 220.0, 210.0, 82.0, ...</td>\n",
       "    </tr>\n",
       "    <tr>\n",
       "      <th>15</th>\n",
       "      <td>YearBuilt</td>\n",
       "      <td>19306</td>\n",
       "      <td>160</td>\n",
       "      <td>[nan, 1900.0, 2014.0, 2006.0, 1910.0, 2009.0, ...</td>\n",
       "    </tr>\n",
       "    <tr>\n",
       "      <th>16</th>\n",
       "      <td>CouncilArea</td>\n",
       "      <td>3</td>\n",
       "      <td>33</td>\n",
       "      <td>[Yarra City Council, Moonee Valley City Counci...</td>\n",
       "    </tr>\n",
       "    <tr>\n",
       "      <th>17</th>\n",
       "      <td>Lattitude</td>\n",
       "      <td>7976</td>\n",
       "      <td>13402</td>\n",
       "      <td>[-37.8014, -37.7996, -37.8079, -37.8114, -37.8...</td>\n",
       "    </tr>\n",
       "    <tr>\n",
       "      <th>18</th>\n",
       "      <td>Longtitude</td>\n",
       "      <td>7976</td>\n",
       "      <td>14524</td>\n",
       "      <td>[144.9958, 144.9984, 144.9934, 145.0116, 144.9...</td>\n",
       "    </tr>\n",
       "    <tr>\n",
       "      <th>19</th>\n",
       "      <td>Regionname</td>\n",
       "      <td>3</td>\n",
       "      <td>8</td>\n",
       "      <td>[Northern Metropolitan, Western Metropolitan, ...</td>\n",
       "    </tr>\n",
       "    <tr>\n",
       "      <th>20</th>\n",
       "      <td>Propertycount</td>\n",
       "      <td>3</td>\n",
       "      <td>342</td>\n",
       "      <td>[4019.0, 3464.0, 3280.0, 2211.0, 5301.0, 5132....</td>\n",
       "    </tr>\n",
       "  </tbody>\n",
       "</table>\n",
       "</div>"
      ],
      "text/plain": [
       "           column  null values  unique number  \\\n",
       "0          Suburb            0            351   \n",
       "1         Address            0          34009   \n",
       "2           Rooms            0             12   \n",
       "3            Type            0              3   \n",
       "4           Price         7610           2871   \n",
       "5          Method            0              9   \n",
       "6         SellerG            0            388   \n",
       "7            Date            0             78   \n",
       "8        Distance            1            215   \n",
       "9        Postcode            1            211   \n",
       "10       Bedroom2         8217             15   \n",
       "11       Bathroom         8226             11   \n",
       "12            Car         8728             15   \n",
       "13       Landsize        11810           1684   \n",
       "14   BuildingArea        21115            740   \n",
       "15      YearBuilt        19306            160   \n",
       "16    CouncilArea            3             33   \n",
       "17      Lattitude         7976          13402   \n",
       "18     Longtitude         7976          14524   \n",
       "19     Regionname            3              8   \n",
       "20  Propertycount            3            342   \n",
       "\n",
       "                                               values  \n",
       "0   [Abbotsford, Airport West, Albert Park, Alphin...  \n",
       "1   [68 Studley St, 85 Turner St, 25 Bloomburg St,...  \n",
       "2             [2, 3, 4, 1, 5, 6, 7, 8, 10, 9, 12, 16]  \n",
       "3                                           [h, u, t]  \n",
       "4   [nan, 1480000.0, 1035000.0, 1465000.0, 850000....  \n",
       "5                  [SS, S, VB, SP, PI, SN, W, PN, SA]  \n",
       "6   [Jellis, Biggin, Rounds, Nelson, Collins, Ding...  \n",
       "7   [3/09/2016, 3/12/2016, 4/02/2016, 4/03/2017, 4...  \n",
       "8   [2.5, 13.5, 3.3, 6.4, 13.8, 11.1, 6.3, 5.9, 11...  \n",
       "9   [3067.0, 3042.0, 3206.0, 3078.0, 3018.0, 3025....  \n",
       "10  [2.0, 3.0, 4.0, 6.0, nan, 1.0, 5.0, 7.0, 0.0, ...  \n",
       "11  [1.0, 2.0, nan, 3.0, 7.0, 4.0, 0.0, 5.0, 6.0, ...  \n",
       "12  [1.0, 0.0, 2.0, nan, 6.0, 5.0, 4.0, 3.0, 8.0, ...  \n",
       "13  [126.0, 202.0, 156.0, 0.0, 134.0, 94.0, 120.0,...  \n",
       "14  [nan, 79.0, 150.0, 142.0, 220.0, 210.0, 82.0, ...  \n",
       "15  [nan, 1900.0, 2014.0, 2006.0, 1910.0, 2009.0, ...  \n",
       "16  [Yarra City Council, Moonee Valley City Counci...  \n",
       "17  [-37.8014, -37.7996, -37.8079, -37.8114, -37.8...  \n",
       "18  [144.9958, 144.9984, 144.9934, 145.0116, 144.9...  \n",
       "19  [Northern Metropolitan, Western Metropolitan, ...  \n",
       "20  [4019.0, 3464.0, 3280.0, 2211.0, 5301.0, 5132....  "
      ]
     },
     "execution_count": 7,
     "metadata": {},
     "output_type": "execute_result"
    }
   ],
   "source": [
    "# check values of columns\n",
    "df1 = []\n",
    "for i in df.columns:\n",
    "    df1.append([i, df[i].isna().sum(), df[i].nunique(), df[i].drop_duplicates().values])\n",
    "\n",
    "df2 = pd.DataFrame(df1, columns=[\"column\", \"null values\", \"unique number\", \"values\"])\n",
    "df2"
   ]
  },
  {
   "cell_type": "markdown",
   "id": "89e37ff3-238b-4dd3-86ce-a4946f763126",
   "metadata": {
    "tags": []
   },
   "source": [
    "## DATA PREPROCESSING"
   ]
  },
  {
   "cell_type": "markdown",
   "id": "247dea39-6869-4ccf-aaa5-1fade226eab6",
   "metadata": {},
   "source": [
    "### MISSING VALUES IDENTIFICATION"
   ]
  },
  {
   "cell_type": "code",
   "execution_count": 8,
   "id": "e382df45-ee4b-423b-a704-9eef143f8cbe",
   "metadata": {
    "tags": []
   },
   "outputs": [
    {
     "data": {
      "text/plain": [
       "Suburb               0\n",
       "Address              0\n",
       "Rooms                0\n",
       "Type                 0\n",
       "Price             7610\n",
       "Method               0\n",
       "SellerG              0\n",
       "Date                 0\n",
       "Distance             1\n",
       "Postcode             1\n",
       "Bedroom2          8217\n",
       "Bathroom          8226\n",
       "Car               8728\n",
       "Landsize         11810\n",
       "BuildingArea     21115\n",
       "YearBuilt        19306\n",
       "CouncilArea          3\n",
       "Lattitude         7976\n",
       "Longtitude        7976\n",
       "Regionname           3\n",
       "Propertycount        3\n",
       "dtype: int64"
      ]
     },
     "execution_count": 8,
     "metadata": {},
     "output_type": "execute_result"
    }
   ],
   "source": [
    "# check missing values\n",
    "df.isna().sum()"
   ]
  },
  {
   "cell_type": "markdown",
   "id": "815f99d0-c850-43dc-b8cc-eee9f8d9b0f6",
   "metadata": {},
   "source": [
    "### MISSING VALUES HANDLING"
   ]
  },
  {
   "cell_type": "markdown",
   "id": "48d191df-1c69-4180-b869-7ea7bcd7e7eb",
   "metadata": {
    "tags": []
   },
   "source": [
    "#### PRICE"
   ]
  },
  {
   "cell_type": "code",
   "execution_count": 9,
   "id": "8f68f6a1-bed5-4c1d-a62e-f79276b01a99",
   "metadata": {},
   "outputs": [
    {
     "name": "stdout",
     "output_type": "stream",
     "text": [
      "Jumlah missing value : 7610\n",
      "Presentase missing value : 21.83 %\n"
     ]
    }
   ],
   "source": [
    "print(\"Jumlah missing value :\", df[\"Price\"].isna().sum())\n",
    "print(\"Presentase missing value :\", round(df[\"Price\"].isna().sum()/len(df)*100, 2), \"%\")"
   ]
  },
  {
   "cell_type": "code",
   "execution_count": 10,
   "id": "2ec997ce-9263-4ae0-8b56-309277608d08",
   "metadata": {},
   "outputs": [],
   "source": [
    "df_null = df[df[\"Price\"].isna()]\n",
    "df_not_null = df[df[\"Price\"].notna()]"
   ]
  },
  {
   "cell_type": "code",
   "execution_count": 10,
   "id": "5a42476b-3a11-417d-b4f8-a50eefcfece4",
   "metadata": {
    "tags": []
   },
   "outputs": [
    {
     "data": {
      "image/png": "[encoded data removed]",
      "text/plain": [
       "<Figure size 1000x600 with 1 Axes>"
      ]
     },
     "metadata": {},
     "output_type": "display_data"
    }
   ],
   "source": [
    "plt.figure(figsize=(10,6))\n",
    "sns.distplot(df[\"Price\"])\n",
    "plt.axvline(df[\"Price\"].mean(), color=\"red\")\n",
    "plt.axvline(df[\"Price\"].median(), color=\"green\")\n",
    "plt.show()"
   ]
  },
  {
   "cell_type": "code",
   "execution_count": 11,
   "id": "bb1b35bc-3993-4e3b-a9ea-f74b7175ce68",
   "metadata": {
    "tags": []
   },
   "outputs": [
    {
     "data": {
      "text/html": [
       "<div>\n",
       "<style scoped>\n",
       "    .dataframe tbody tr th:only-of-type {\n",
       "        vertical-align: middle;\n",
       "    }\n",
       "\n",
       "    .dataframe tbody tr th {\n",
       "        vertical-align: top;\n",
       "    }\n",
       "\n",
       "    .dataframe thead th {\n",
       "        text-align: right;\n",
       "    }\n",
       "</style>\n",
       "<table border=\"1\" class=\"dataframe\">\n",
       "  <thead>\n",
       "    <tr style=\"text-align: right;\">\n",
       "      <th></th>\n",
       "      <th>Type</th>\n",
       "      <th>Rooms</th>\n",
       "      <th>Price</th>\n",
       "    </tr>\n",
       "  </thead>\n",
       "  <tbody>\n",
       "    <tr>\n",
       "      <th>0</th>\n",
       "      <td>h</td>\n",
       "      <td>1</td>\n",
       "      <td>807500.0</td>\n",
       "    </tr>\n",
       "    <tr>\n",
       "      <th>1</th>\n",
       "      <td>h</td>\n",
       "      <td>2</td>\n",
       "      <td>941000.0</td>\n",
       "    </tr>\n",
       "    <tr>\n",
       "      <th>2</th>\n",
       "      <td>h</td>\n",
       "      <td>3</td>\n",
       "      <td>928000.0</td>\n",
       "    </tr>\n",
       "    <tr>\n",
       "      <th>3</th>\n",
       "      <td>h</td>\n",
       "      <td>4</td>\n",
       "      <td>1210000.0</td>\n",
       "    </tr>\n",
       "    <tr>\n",
       "      <th>4</th>\n",
       "      <td>h</td>\n",
       "      <td>5</td>\n",
       "      <td>1560000.0</td>\n",
       "    </tr>\n",
       "    <tr>\n",
       "      <th>5</th>\n",
       "      <td>h</td>\n",
       "      <td>6</td>\n",
       "      <td>1663000.0</td>\n",
       "    </tr>\n",
       "    <tr>\n",
       "      <th>6</th>\n",
       "      <td>h</td>\n",
       "      <td>7</td>\n",
       "      <td>1350000.0</td>\n",
       "    </tr>\n",
       "    <tr>\n",
       "      <th>7</th>\n",
       "      <td>h</td>\n",
       "      <td>8</td>\n",
       "      <td>1277500.0</td>\n",
       "    </tr>\n",
       "    <tr>\n",
       "      <th>8</th>\n",
       "      <td>h</td>\n",
       "      <td>9</td>\n",
       "      <td>1380000.0</td>\n",
       "    </tr>\n",
       "    <tr>\n",
       "      <th>9</th>\n",
       "      <td>h</td>\n",
       "      <td>10</td>\n",
       "      <td>2115000.0</td>\n",
       "    </tr>\n",
       "    <tr>\n",
       "      <th>10</th>\n",
       "      <td>h</td>\n",
       "      <td>12</td>\n",
       "      <td>2705000.0</td>\n",
       "    </tr>\n",
       "    <tr>\n",
       "      <th>11</th>\n",
       "      <td>h</td>\n",
       "      <td>16</td>\n",
       "      <td>5000000.0</td>\n",
       "    </tr>\n",
       "    <tr>\n",
       "      <th>12</th>\n",
       "      <td>t</td>\n",
       "      <td>1</td>\n",
       "      <td>532500.0</td>\n",
       "    </tr>\n",
       "    <tr>\n",
       "      <th>13</th>\n",
       "      <td>t</td>\n",
       "      <td>2</td>\n",
       "      <td>669250.0</td>\n",
       "    </tr>\n",
       "    <tr>\n",
       "      <th>14</th>\n",
       "      <td>t</td>\n",
       "      <td>3</td>\n",
       "      <td>875000.0</td>\n",
       "    </tr>\n",
       "    <tr>\n",
       "      <th>15</th>\n",
       "      <td>t</td>\n",
       "      <td>4</td>\n",
       "      <td>1200000.0</td>\n",
       "    </tr>\n",
       "    <tr>\n",
       "      <th>16</th>\n",
       "      <td>t</td>\n",
       "      <td>5</td>\n",
       "      <td>1100000.0</td>\n",
       "    </tr>\n",
       "    <tr>\n",
       "      <th>17</th>\n",
       "      <td>u</td>\n",
       "      <td>1</td>\n",
       "      <td>385000.0</td>\n",
       "    </tr>\n",
       "    <tr>\n",
       "      <th>18</th>\n",
       "      <td>u</td>\n",
       "      <td>2</td>\n",
       "      <td>590000.0</td>\n",
       "    </tr>\n",
       "    <tr>\n",
       "      <th>19</th>\n",
       "      <td>u</td>\n",
       "      <td>3</td>\n",
       "      <td>777000.0</td>\n",
       "    </tr>\n",
       "    <tr>\n",
       "      <th>20</th>\n",
       "      <td>u</td>\n",
       "      <td>4</td>\n",
       "      <td>895000.0</td>\n",
       "    </tr>\n",
       "    <tr>\n",
       "      <th>21</th>\n",
       "      <td>u</td>\n",
       "      <td>6</td>\n",
       "      <td>520000.0</td>\n",
       "    </tr>\n",
       "    <tr>\n",
       "      <th>22</th>\n",
       "      <td>u</td>\n",
       "      <td>8</td>\n",
       "      <td>2730000.0</td>\n",
       "    </tr>\n",
       "  </tbody>\n",
       "</table>\n",
       "</div>"
      ],
      "text/plain": [
       "   Type  Rooms      Price\n",
       "0     h      1   807500.0\n",
       "1     h      2   941000.0\n",
       "2     h      3   928000.0\n",
       "3     h      4  1210000.0\n",
       "4     h      5  1560000.0\n",
       "5     h      6  1663000.0\n",
       "6     h      7  1350000.0\n",
       "7     h      8  1277500.0\n",
       "8     h      9  1380000.0\n",
       "9     h     10  2115000.0\n",
       "10    h     12  2705000.0\n",
       "11    h     16  5000000.0\n",
       "12    t      1   532500.0\n",
       "13    t      2   669250.0\n",
       "14    t      3   875000.0\n",
       "15    t      4  1200000.0\n",
       "16    t      5  1100000.0\n",
       "17    u      1   385000.0\n",
       "18    u      2   590000.0\n",
       "19    u      3   777000.0\n",
       "20    u      4   895000.0\n",
       "21    u      6   520000.0\n",
       "22    u      8  2730000.0"
      ]
     },
     "execution_count": 11,
     "metadata": {},
     "output_type": "execute_result"
    }
   ],
   "source": [
    "df_not_null.groupby([\"Type\", \"Rooms\"], as_index=False)[\"Price\"].median()"
   ]
  },
  {
   "cell_type": "code",
   "execution_count": 12,
   "id": "21cbe5a4-1239-4b8c-b52a-5bd1a837b73e",
   "metadata": {
    "jupyter": {
     "source_hidden": true
    },
    "tags": []
   },
   "outputs": [],
   "source": [
    "price = []\n",
    "\n",
    "for Type, Rooms in zip(df_null[\"Type\"], df_null[\"Rooms\"]):\n",
    "    if Type == \"h\":\n",
    "        if Rooms == 1:\n",
    "            price.append(807500)\n",
    "        elif Rooms == 2:\n",
    "            price.append(941000)\n",
    "        elif Rooms == 3:\n",
    "            price.append(928000)\n",
    "        elif Rooms == 4:\n",
    "            price.append(1210000)\n",
    "        elif Rooms == 5:\n",
    "            price.append(1560000)\n",
    "        elif Rooms == 6:\n",
    "            price.append(1663000)\n",
    "        elif Rooms == 7:\n",
    "            price.append(1350000)\n",
    "        elif Rooms == 8:\n",
    "            price.append(1277500)\n",
    "        elif Rooms == 9:\n",
    "            price.append(1380000)\n",
    "        elif Rooms == 10:\n",
    "            price.append(2115000)\n",
    "        elif Rooms == 12:\n",
    "            price.append(2705000)\n",
    "        else:\n",
    "            price.append(5000000)\n",
    "    elif Type == \"t\":\n",
    "        if Rooms == 1:\n",
    "            price.append(532500)\n",
    "        elif Rooms == 2:\n",
    "            price.append(669250)\n",
    "        elif Rooms == 3:\n",
    "            price.append(875000)\n",
    "        elif Rooms == 4:\n",
    "            price.append(1200000)\n",
    "        else:\n",
    "            price.append(1100000)\n",
    "    else:\n",
    "        if Rooms == 1:\n",
    "            price.append(385000)\n",
    "        elif Rooms == 2:\n",
    "            price.append(590000)\n",
    "        elif Rooms == 3:\n",
    "            price.append(777000)\n",
    "        elif Rooms == 4:\n",
    "            price.append(895000)\n",
    "        elif Rooms == 6:\n",
    "            price.append(520000)\n",
    "        else:\n",
    "            price.append(2730000)"
   ]
  },
  {
   "cell_type": "code",
   "execution_count": 13,
   "id": "463f37bb-e18d-4686-a363-4e0d24ab0f8c",
   "metadata": {},
   "outputs": [],
   "source": [
    "df_null[\"Price\"]=price"
   ]
  },
  {
   "cell_type": "code",
   "execution_count": 14,
   "id": "80ba4573-8ad0-4732-a7ff-a9abbfa79f5d",
   "metadata": {},
   "outputs": [],
   "source": [
    "df = pd.concat([df_not_null, df_null])"
   ]
  },
  {
   "cell_type": "code",
   "execution_count": 15,
   "id": "4fc49393-f780-4a77-91da-7aace68d4314",
   "metadata": {
    "tags": []
   },
   "outputs": [
    {
     "data": {
      "text/plain": [
       "Suburb               0\n",
       "Address              0\n",
       "Rooms                0\n",
       "Type                 0\n",
       "Price                0\n",
       "Method               0\n",
       "SellerG              0\n",
       "Date                 0\n",
       "Distance             1\n",
       "Postcode             1\n",
       "Bedroom2          8217\n",
       "Bathroom          8226\n",
       "Car               8728\n",
       "Landsize         11810\n",
       "BuildingArea     21115\n",
       "YearBuilt        19306\n",
       "CouncilArea          3\n",
       "Lattitude         7976\n",
       "Longtitude        7976\n",
       "Regionname           3\n",
       "Propertycount        3\n",
       "dtype: int64"
      ]
     },
     "execution_count": 15,
     "metadata": {},
     "output_type": "execute_result"
    }
   ],
   "source": [
    "df.isna().sum()"
   ]
  },
  {
   "cell_type": "markdown",
   "id": "e3accdfd-50af-4e2f-8100-73663293f307",
   "metadata": {
    "tags": []
   },
   "source": [
    "#### BEDROOM2"
   ]
  },
  {
   "cell_type": "code",
   "execution_count": 16,
   "id": "1d9d1b08-98a2-461e-b105-ac6607ac7146",
   "metadata": {},
   "outputs": [
    {
     "name": "stdout",
     "output_type": "stream",
     "text": [
      "Jumlah missing value : 8217\n",
      "Presentase missing value : 23.57 %\n"
     ]
    }
   ],
   "source": [
    "print(\"Jumlah missing value :\", df[\"Bedroom2\"].isna().sum())\n",
    "print(\"Presentase missing value :\", round(df[\"Bedroom2\"].isna().sum()/len(df)*100, 2), \"%\")"
   ]
  },
  {
   "cell_type": "code",
   "execution_count": 17,
   "id": "f5f9a0f1-34df-48b1-aafb-231c8514371b",
   "metadata": {},
   "outputs": [],
   "source": [
    "# Drop column bedroom\n",
    "df = df.drop(columns=[\"Bedroom2\"])"
   ]
  },
  {
   "cell_type": "code",
   "execution_count": 18,
   "id": "55cbc24e-7de1-45cb-aa0e-de217cf58898",
   "metadata": {
    "tags": []
   },
   "outputs": [
    {
     "data": {
      "text/plain": [
       "Suburb               0\n",
       "Address              0\n",
       "Rooms                0\n",
       "Type                 0\n",
       "Price                0\n",
       "Method               0\n",
       "SellerG              0\n",
       "Date                 0\n",
       "Distance             1\n",
       "Postcode             1\n",
       "Bathroom          8226\n",
       "Car               8728\n",
       "Landsize         11810\n",
       "BuildingArea     21115\n",
       "YearBuilt        19306\n",
       "CouncilArea          3\n",
       "Lattitude         7976\n",
       "Longtitude        7976\n",
       "Regionname           3\n",
       "Propertycount        3\n",
       "dtype: int64"
      ]
     },
     "execution_count": 18,
     "metadata": {},
     "output_type": "execute_result"
    }
   ],
   "source": [
    "df.isna().sum()"
   ]
  },
  {
   "cell_type": "markdown",
   "id": "068168f3-a411-4a3d-9be9-aa787f2428c0",
   "metadata": {},
   "source": [
    "#### BATHROOM"
   ]
  },
  {
   "cell_type": "code",
   "execution_count": 19,
   "id": "094617eb-574c-4ae9-93c3-445fd7bf97b6",
   "metadata": {},
   "outputs": [
    {
     "name": "stdout",
     "output_type": "stream",
     "text": [
      "Jumlah missing value : 8226\n",
      "Presentase missing value : 23.6 %\n"
     ]
    }
   ],
   "source": [
    "print(\"Jumlah missing value :\", df[\"Bathroom\"].isna().sum())\n",
    "print(\"Presentase missing value :\", round(df[\"Bathroom\"].isna().sum()/len(df)*100, 2), \"%\")"
   ]
  },
  {
   "cell_type": "code",
   "execution_count": 20,
   "id": "ddf9e729-d98a-44e2-9ebf-bc70a6ad3b46",
   "metadata": {},
   "outputs": [],
   "source": [
    "df[\"Bathroom\"] = df[\"Bathroom\"].fillna(0)"
   ]
  },
  {
   "cell_type": "code",
   "execution_count": 21,
   "id": "3baa3f02-ec23-4e7c-ab1e-2ccd2ec8f4dc",
   "metadata": {
    "tags": []
   },
   "outputs": [
    {
     "data": {
      "text/plain": [
       "Suburb               0\n",
       "Address              0\n",
       "Rooms                0\n",
       "Type                 0\n",
       "Price                0\n",
       "Method               0\n",
       "SellerG              0\n",
       "Date                 0\n",
       "Distance             1\n",
       "Postcode             1\n",
       "Bathroom             0\n",
       "Car               8728\n",
       "Landsize         11810\n",
       "BuildingArea     21115\n",
       "YearBuilt        19306\n",
       "CouncilArea          3\n",
       "Lattitude         7976\n",
       "Longtitude        7976\n",
       "Regionname           3\n",
       "Propertycount        3\n",
       "dtype: int64"
      ]
     },
     "execution_count": 21,
     "metadata": {},
     "output_type": "execute_result"
    }
   ],
   "source": [
    "df.isna().sum()"
   ]
  },
  {
   "cell_type": "markdown",
   "id": "3c2da993-7ff2-4f8d-916c-78cfbdf2774e",
   "metadata": {},
   "source": [
    "#### CAR"
   ]
  },
  {
   "cell_type": "code",
   "execution_count": 22,
   "id": "4725225b-4dd6-4381-943d-1c285d30d4e7",
   "metadata": {},
   "outputs": [
    {
     "name": "stdout",
     "output_type": "stream",
     "text": [
      "Jumlah missing value : 8728\n",
      "Presentase missing value : 25.04 %\n"
     ]
    }
   ],
   "source": [
    "print(\"Jumlah missing value :\", df[\"Car\"].isna().sum())\n",
    "print(\"Presentase missing value :\", round(df[\"Car\"].isna().sum()/len(df)*100, 2), \"%\")"
   ]
  },
  {
   "cell_type": "code",
   "execution_count": 23,
   "id": "e485c160-8f69-4e7a-94e8-cf803724457c",
   "metadata": {},
   "outputs": [],
   "source": [
    "df[\"Car\"] = df[\"Car\"].fillna(0)"
   ]
  },
  {
   "cell_type": "code",
   "execution_count": 24,
   "id": "bae18dfe-74c4-47d7-bdba-03b57bfb36a0",
   "metadata": {
    "tags": []
   },
   "outputs": [
    {
     "data": {
      "text/plain": [
       "Suburb               0\n",
       "Address              0\n",
       "Rooms                0\n",
       "Type                 0\n",
       "Price                0\n",
       "Method               0\n",
       "SellerG              0\n",
       "Date                 0\n",
       "Distance             1\n",
       "Postcode             1\n",
       "Bathroom             0\n",
       "Car                  0\n",
       "Landsize         11810\n",
       "BuildingArea     21115\n",
       "YearBuilt        19306\n",
       "CouncilArea          3\n",
       "Lattitude         7976\n",
       "Longtitude        7976\n",
       "Regionname           3\n",
       "Propertycount        3\n",
       "dtype: int64"
      ]
     },
     "execution_count": 24,
     "metadata": {},
     "output_type": "execute_result"
    }
   ],
   "source": [
    "df.isna().sum()"
   ]
  },
  {
   "cell_type": "markdown",
   "id": "d94e266d-7892-4a50-9cbb-0acfc5799c52",
   "metadata": {},
   "source": [
    "#### LANDSIZE"
   ]
  },
  {
   "cell_type": "code",
   "execution_count": 25,
   "id": "bb5679da-8171-4feb-a9ef-ffe7c58d00f1",
   "metadata": {},
   "outputs": [
    {
     "name": "stdout",
     "output_type": "stream",
     "text": [
      "Jumlah missing value : 11810\n",
      "Presentase missing value : 33.88 %\n"
     ]
    }
   ],
   "source": [
    "print(\"Jumlah missing value :\", df[\"Landsize\"].isna().sum())\n",
    "print(\"Presentase missing value :\", round(df[\"Landsize\"].isna().sum()/len(df)*100, 2), \"%\")"
   ]
  },
  {
   "cell_type": "code",
   "execution_count": 26,
   "id": "6326d623-3e9d-4351-bf65-490055c0dc2c",
   "metadata": {},
   "outputs": [],
   "source": [
    "df_null = df[df[\"Landsize\"].isna()]\n",
    "df_not_null = df[df[\"Landsize\"].notna()]"
   ]
  },
  {
   "cell_type": "code",
   "execution_count": 27,
   "id": "6a70fd67-2efd-4c2a-a5a3-bdc78fa401fa",
   "metadata": {
    "tags": []
   },
   "outputs": [
    {
     "data": {
      "image/png": "[encoded data removed]",
      "text/plain": [
       "<Figure size 1000x600 with 1 Axes>"
      ]
     },
     "metadata": {},
     "output_type": "display_data"
    }
   ],
   "source": [
    "plt.figure(figsize=(10,6))\n",
    "sns.distplot(df[\"Landsize\"])\n",
    "plt.axvline(df[\"Landsize\"].mean(), color=\"red\")\n",
    "plt.axvline(df[\"Landsize\"].median(), color=\"green\")\n",
    "plt.show()"
   ]
  },
  {
   "cell_type": "code",
   "execution_count": 28,
   "id": "9bfe58ca-cbde-4e00-b0f2-99ba67746574",
   "metadata": {
    "tags": []
   },
   "outputs": [
    {
     "data": {
      "text/html": [
       "<div>\n",
       "<style scoped>\n",
       "    .dataframe tbody tr th:only-of-type {\n",
       "        vertical-align: middle;\n",
       "    }\n",
       "\n",
       "    .dataframe tbody tr th {\n",
       "        vertical-align: top;\n",
       "    }\n",
       "\n",
       "    .dataframe thead th {\n",
       "        text-align: right;\n",
       "    }\n",
       "</style>\n",
       "<table border=\"1\" class=\"dataframe\">\n",
       "  <thead>\n",
       "    <tr style=\"text-align: right;\">\n",
       "      <th></th>\n",
       "      <th>Type</th>\n",
       "      <th>Car</th>\n",
       "      <th>Landsize</th>\n",
       "    </tr>\n",
       "  </thead>\n",
       "  <tbody>\n",
       "    <tr>\n",
       "      <th>0</th>\n",
       "      <td>h</td>\n",
       "      <td>0.0</td>\n",
       "      <td>232.5</td>\n",
       "    </tr>\n",
       "    <tr>\n",
       "      <th>1</th>\n",
       "      <td>h</td>\n",
       "      <td>1.0</td>\n",
       "      <td>447.0</td>\n",
       "    </tr>\n",
       "    <tr>\n",
       "      <th>2</th>\n",
       "      <td>h</td>\n",
       "      <td>2.0</td>\n",
       "      <td>604.0</td>\n",
       "    </tr>\n",
       "    <tr>\n",
       "      <th>3</th>\n",
       "      <td>h</td>\n",
       "      <td>3.0</td>\n",
       "      <td>639.0</td>\n",
       "    </tr>\n",
       "    <tr>\n",
       "      <th>4</th>\n",
       "      <td>h</td>\n",
       "      <td>4.0</td>\n",
       "      <td>669.0</td>\n",
       "    </tr>\n",
       "    <tr>\n",
       "      <th>5</th>\n",
       "      <td>h</td>\n",
       "      <td>5.0</td>\n",
       "      <td>670.5</td>\n",
       "    </tr>\n",
       "    <tr>\n",
       "      <th>6</th>\n",
       "      <td>h</td>\n",
       "      <td>6.0</td>\n",
       "      <td>704.5</td>\n",
       "    </tr>\n",
       "    <tr>\n",
       "      <th>7</th>\n",
       "      <td>h</td>\n",
       "      <td>7.0</td>\n",
       "      <td>650.5</td>\n",
       "    </tr>\n",
       "    <tr>\n",
       "      <th>8</th>\n",
       "      <td>h</td>\n",
       "      <td>8.0</td>\n",
       "      <td>941.0</td>\n",
       "    </tr>\n",
       "    <tr>\n",
       "      <th>9</th>\n",
       "      <td>h</td>\n",
       "      <td>9.0</td>\n",
       "      <td>721.0</td>\n",
       "    </tr>\n",
       "    <tr>\n",
       "      <th>10</th>\n",
       "      <td>h</td>\n",
       "      <td>10.0</td>\n",
       "      <td>993.0</td>\n",
       "    </tr>\n",
       "    <tr>\n",
       "      <th>11</th>\n",
       "      <td>h</td>\n",
       "      <td>11.0</td>\n",
       "      <td>853.5</td>\n",
       "    </tr>\n",
       "    <tr>\n",
       "      <th>12</th>\n",
       "      <td>h</td>\n",
       "      <td>12.0</td>\n",
       "      <td>835.0</td>\n",
       "    </tr>\n",
       "    <tr>\n",
       "      <th>13</th>\n",
       "      <td>h</td>\n",
       "      <td>18.0</td>\n",
       "      <td>1250.0</td>\n",
       "    </tr>\n",
       "    <tr>\n",
       "      <th>14</th>\n",
       "      <td>h</td>\n",
       "      <td>26.0</td>\n",
       "      <td>267.0</td>\n",
       "    </tr>\n",
       "    <tr>\n",
       "      <th>15</th>\n",
       "      <td>t</td>\n",
       "      <td>0.0</td>\n",
       "      <td>137.0</td>\n",
       "    </tr>\n",
       "    <tr>\n",
       "      <th>16</th>\n",
       "      <td>t</td>\n",
       "      <td>1.0</td>\n",
       "      <td>156.0</td>\n",
       "    </tr>\n",
       "    <tr>\n",
       "      <th>17</th>\n",
       "      <td>t</td>\n",
       "      <td>2.0</td>\n",
       "      <td>242.0</td>\n",
       "    </tr>\n",
       "    <tr>\n",
       "      <th>18</th>\n",
       "      <td>t</td>\n",
       "      <td>3.0</td>\n",
       "      <td>285.0</td>\n",
       "    </tr>\n",
       "    <tr>\n",
       "      <th>19</th>\n",
       "      <td>t</td>\n",
       "      <td>4.0</td>\n",
       "      <td>313.0</td>\n",
       "    </tr>\n",
       "    <tr>\n",
       "      <th>20</th>\n",
       "      <td>u</td>\n",
       "      <td>0.0</td>\n",
       "      <td>0.0</td>\n",
       "    </tr>\n",
       "    <tr>\n",
       "      <th>21</th>\n",
       "      <td>u</td>\n",
       "      <td>1.0</td>\n",
       "      <td>0.0</td>\n",
       "    </tr>\n",
       "    <tr>\n",
       "      <th>22</th>\n",
       "      <td>u</td>\n",
       "      <td>2.0</td>\n",
       "      <td>180.0</td>\n",
       "    </tr>\n",
       "    <tr>\n",
       "      <th>23</th>\n",
       "      <td>u</td>\n",
       "      <td>3.0</td>\n",
       "      <td>180.0</td>\n",
       "    </tr>\n",
       "    <tr>\n",
       "      <th>24</th>\n",
       "      <td>u</td>\n",
       "      <td>4.0</td>\n",
       "      <td>287.0</td>\n",
       "    </tr>\n",
       "    <tr>\n",
       "      <th>25</th>\n",
       "      <td>u</td>\n",
       "      <td>6.0</td>\n",
       "      <td>335.0</td>\n",
       "    </tr>\n",
       "    <tr>\n",
       "      <th>26</th>\n",
       "      <td>u</td>\n",
       "      <td>7.0</td>\n",
       "      <td>420.0</td>\n",
       "    </tr>\n",
       "  </tbody>\n",
       "</table>\n",
       "</div>"
      ],
      "text/plain": [
       "   Type   Car  Landsize\n",
       "0     h   0.0     232.5\n",
       "1     h   1.0     447.0\n",
       "2     h   2.0     604.0\n",
       "3     h   3.0     639.0\n",
       "4     h   4.0     669.0\n",
       "5     h   5.0     670.5\n",
       "6     h   6.0     704.5\n",
       "7     h   7.0     650.5\n",
       "8     h   8.0     941.0\n",
       "9     h   9.0     721.0\n",
       "10    h  10.0     993.0\n",
       "11    h  11.0     853.5\n",
       "12    h  12.0     835.0\n",
       "13    h  18.0    1250.0\n",
       "14    h  26.0     267.0\n",
       "15    t   0.0     137.0\n",
       "16    t   1.0     156.0\n",
       "17    t   2.0     242.0\n",
       "18    t   3.0     285.0\n",
       "19    t   4.0     313.0\n",
       "20    u   0.0       0.0\n",
       "21    u   1.0       0.0\n",
       "22    u   2.0     180.0\n",
       "23    u   3.0     180.0\n",
       "24    u   4.0     287.0\n",
       "25    u   6.0     335.0\n",
       "26    u   7.0     420.0"
      ]
     },
     "execution_count": 28,
     "metadata": {},
     "output_type": "execute_result"
    }
   ],
   "source": [
    "df_not_null.groupby([\"Type\", \"Car\"], as_index=False)[\"Landsize\"].median()"
   ]
  },
  {
   "cell_type": "code",
   "execution_count": 29,
   "id": "11f40230-ee58-4164-9303-f857fb4fcb65",
   "metadata": {},
   "outputs": [],
   "source": [
    "ls = []\n",
    "\n",
    "for Type, Car in zip(df_null[\"Type\"], df_null[\"Car\"]):\n",
    "    if Type == \"h\":\n",
    "        if Car == 0:\n",
    "            ls.append(235)\n",
    "        elif Car == 1:\n",
    "            ls.append(447)\n",
    "        elif Car == 2:\n",
    "            ls.append(604)\n",
    "        elif Car == 3:\n",
    "            ls.append(639)\n",
    "        elif Car == 4:\n",
    "            ls.append(669)\n",
    "        elif Car == 5:\n",
    "            ls.append(671)\n",
    "        elif Car == 6:\n",
    "            ls.append(704.5)\n",
    "        elif Car == 7:\n",
    "            ls.append(650.5)\n",
    "        elif Car == 8:\n",
    "            ls.append(232.5)\n",
    "        elif Car == 9:\n",
    "            ls.append(721)\n",
    "        elif Car == 10:\n",
    "            ls.append(993)\n",
    "        elif Car == 11:\n",
    "            ls.append(853.5)\n",
    "        elif Car == 12:\n",
    "            ls.append(835)\n",
    "        elif Car == 18:\n",
    "            ls.append(1250)\n",
    "        else:\n",
    "            ls.append(267)\n",
    "    elif Type == \"t\":\n",
    "        if Car == 0:\n",
    "            ls.append(132)\n",
    "        elif Car == 1:\n",
    "            ls.append(156)\n",
    "        elif Car == 2:\n",
    "            ls.append(242)\n",
    "        elif Car == 3:\n",
    "            ls.append(281)\n",
    "        else:\n",
    "            ls.append(313)\n",
    "    else:\n",
    "        if Car in [0,1] == True:\n",
    "            ls.append(0)\n",
    "        elif Car in [2,3] == True:\n",
    "            ls.append(180)\n",
    "        elif Car == 4:\n",
    "            ls.append(287)\n",
    "        elif Car == 6:\n",
    "            ls.append(335)\n",
    "        elif Car == 7:\n",
    "            ls.append(420)\n",
    "        else:\n",
    "            ls.append(309)"
   ]
  },
  {
   "cell_type": "code",
   "execution_count": 30,
   "id": "02acf100-65fc-41ff-bfc2-0d948137c00a",
   "metadata": {},
   "outputs": [],
   "source": [
    "df_null[\"Landsize\"]=ls"
   ]
  },
  {
   "cell_type": "code",
   "execution_count": 31,
   "id": "4a27aa61-f3ab-4589-9ac9-31e320ebad06",
   "metadata": {},
   "outputs": [],
   "source": [
    "df = pd.concat([df_not_null, df_null])"
   ]
  },
  {
   "cell_type": "code",
   "execution_count": 32,
   "id": "f84714f7-f3fa-4582-b0ec-651f59ec82b3",
   "metadata": {
    "tags": []
   },
   "outputs": [
    {
     "data": {
      "text/plain": [
       "Suburb               0\n",
       "Address              0\n",
       "Rooms                0\n",
       "Type                 0\n",
       "Price                0\n",
       "Method               0\n",
       "SellerG              0\n",
       "Date                 0\n",
       "Distance             1\n",
       "Postcode             1\n",
       "Bathroom             0\n",
       "Car                  0\n",
       "Landsize             0\n",
       "BuildingArea     21115\n",
       "YearBuilt        19306\n",
       "CouncilArea          3\n",
       "Lattitude         7976\n",
       "Longtitude        7976\n",
       "Regionname           3\n",
       "Propertycount        3\n",
       "dtype: int64"
      ]
     },
     "execution_count": 32,
     "metadata": {},
     "output_type": "execute_result"
    }
   ],
   "source": [
    "df.isna().sum()"
   ]
  },
  {
   "cell_type": "markdown",
   "id": "193ba7b8-9fef-4ea6-80da-4186d1dbf999",
   "metadata": {},
   "source": [
    "#### BUILDING AREA"
   ]
  },
  {
   "cell_type": "code",
   "execution_count": 33,
   "id": "11079204-95ac-4a35-b5ed-43e3b129d9aa",
   "metadata": {},
   "outputs": [
    {
     "name": "stdout",
     "output_type": "stream",
     "text": [
      "Jumlah missing value : 21115\n",
      "Presentase missing value : 60.58 %\n"
     ]
    }
   ],
   "source": [
    "print(\"Jumlah missing value :\", df[\"BuildingArea\"].isna().sum())\n",
    "print(\"Presentase missing value :\", round(df[\"BuildingArea\"].isna().sum()/len(df)*100, 2), \"%\")"
   ]
  },
  {
   "cell_type": "markdown",
   "id": "df1301f1-1402-4274-8bf7-b824f8698edf",
   "metadata": {},
   "source": [
    "#### YEAR BUILT"
   ]
  },
  {
   "cell_type": "code",
   "execution_count": 34,
   "id": "156eace9-44d0-44ef-b9e4-2b63f191fc3d",
   "metadata": {},
   "outputs": [
    {
     "name": "stdout",
     "output_type": "stream",
     "text": [
      "Jumlah missing value : 19306\n",
      "Presentase missing value : 55.39 %\n"
     ]
    }
   ],
   "source": [
    "print(\"Jumlah missing value :\", df[\"YearBuilt\"].isna().sum())\n",
    "print(\"Presentase missing value :\", round(df[\"YearBuilt\"].isna().sum()/len(df)*100, 2), \"%\")"
   ]
  },
  {
   "cell_type": "code",
   "execution_count": 35,
   "id": "0f7f44ba-fc16-4a0d-84b6-6041219466f2",
   "metadata": {},
   "outputs": [],
   "source": [
    "df = df.drop(columns=[\"BuildingArea\", \"YearBuilt\", \"Lattitude\", \"Longtitude\", \"Suburb\", \"Address\", \"SellerG\", \"Date\"])"
   ]
  },
  {
   "cell_type": "markdown",
   "id": "4c0cc1b7-fbbb-4dd4-8b1a-7b8c5e52a8f4",
   "metadata": {},
   "source": [
    "**Fill in the missing values with a little missing values with 0 or unknown**"
   ]
  },
  {
   "cell_type": "code",
   "execution_count": 36,
   "id": "7d88ae69-d3b6-4854-a671-92a20f71c8e2",
   "metadata": {},
   "outputs": [],
   "source": [
    "df[\"Distance\"] = df[\"Distance\"].fillna(0)\n",
    "df[\"Postcode\"] = df[\"Postcode\"].fillna(0)\n",
    "df[\"CouncilArea\"] = df[\"CouncilArea\"].fillna(\"unknown\")\n",
    "df[\"Regionname\"] = df[\"Regionname\"].fillna(\"unknown\")\n",
    "df[\"Propertycount\"] = df[\"Propertycount\"].fillna(0)"
   ]
  },
  {
   "cell_type": "code",
   "execution_count": 37,
   "id": "86d85546-3a50-41cb-b39e-444955d0eafa",
   "metadata": {},
   "outputs": [
    {
     "data": {
      "text/plain": [
       "Rooms            0\n",
       "Type             0\n",
       "Price            0\n",
       "Method           0\n",
       "Distance         0\n",
       "Postcode         0\n",
       "Bathroom         0\n",
       "Car              0\n",
       "Landsize         0\n",
       "CouncilArea      0\n",
       "Regionname       0\n",
       "Propertycount    0\n",
       "dtype: int64"
      ]
     },
     "execution_count": 37,
     "metadata": {},
     "output_type": "execute_result"
    }
   ],
   "source": [
    "df.isna().sum()"
   ]
  },
  {
   "cell_type": "markdown",
   "id": "19987db4-62a7-4fb8-bc05-69e8132c58ec",
   "metadata": {},
   "source": [
    "### OUTLIER IDENTIFICATION"
   ]
  },
  {
   "cell_type": "markdown",
   "id": "e8777711-5e6f-4ef4-bb96-2e28b26cb7f5",
   "metadata": {},
   "source": [
    "### IDENTIFICATION IN VISUAL WITH BOX PLOT"
   ]
  },
  {
   "cell_type": "markdown",
   "id": "2fc5d033-696d-40a0-a329-110f3343c9c8",
   "metadata": {},
   "source": [
    "### DETECTING OUTLIER WITH IQR"
   ]
  },
  {
   "cell_type": "code",
   "execution_count": 38,
   "id": "064ac77b-b019-4568-a9a1-9758f616e47a",
   "metadata": {},
   "outputs": [],
   "source": [
    "def find_outlier(data):\n",
    "    Q1 = np.quantile(data, .25)\n",
    "    Q3 = np.quantile(data, .75)\n",
    "    \n",
    "    IQR = Q3-Q1\n",
    "    min_IQR = Q1-1.5*IQR\n",
    "    max_IQR = Q3+1.5*IQR\n",
    "    \n",
    "    low_out =[]\n",
    "    upper_out = []\n",
    "    \n",
    "    for i in data:\n",
    "        if(i<min_IQR):\n",
    "            low_out.append(i)\n",
    "        if (i > max_IQR):\n",
    "            upper_out.append(i)\n",
    "    return low_out, upper_out"
   ]
  },
  {
   "cell_type": "code",
   "execution_count": 39,
   "id": "cd46b219-7c80-4c6f-adec-d9ca58b5d6d0",
   "metadata": {},
   "outputs": [
    {
     "data": {
      "text/html": [
       "<div>\n",
       "<style scoped>\n",
       "    .dataframe tbody tr th:only-of-type {\n",
       "        vertical-align: middle;\n",
       "    }\n",
       "\n",
       "    .dataframe tbody tr th {\n",
       "        vertical-align: top;\n",
       "    }\n",
       "\n",
       "    .dataframe thead th {\n",
       "        text-align: right;\n",
       "    }\n",
       "</style>\n",
       "<table border=\"1\" class=\"dataframe\">\n",
       "  <thead>\n",
       "    <tr style=\"text-align: right;\">\n",
       "      <th></th>\n",
       "      <th>count</th>\n",
       "      <th>mean</th>\n",
       "      <th>std</th>\n",
       "      <th>min</th>\n",
       "      <th>25%</th>\n",
       "      <th>50%</th>\n",
       "      <th>75%</th>\n",
       "      <th>max</th>\n",
       "    </tr>\n",
       "  </thead>\n",
       "  <tbody>\n",
       "    <tr>\n",
       "      <th>Rooms</th>\n",
       "      <td>34857.0</td>\n",
       "      <td>3.031012e+00</td>\n",
       "      <td>0.969933</td>\n",
       "      <td>1.0</td>\n",
       "      <td>2.0</td>\n",
       "      <td>3.0</td>\n",
       "      <td>4.0</td>\n",
       "      <td>16.0</td>\n",
       "    </tr>\n",
       "    <tr>\n",
       "      <th>Price</th>\n",
       "      <td>34857.0</td>\n",
       "      <td>1.035808e+06</td>\n",
       "      <td>582356.748479</td>\n",
       "      <td>85000.0</td>\n",
       "      <td>660000.0</td>\n",
       "      <td>928000.0</td>\n",
       "      <td>1210000.0</td>\n",
       "      <td>11200000.0</td>\n",
       "    </tr>\n",
       "    <tr>\n",
       "      <th>Distance</th>\n",
       "      <td>34857.0</td>\n",
       "      <td>1.118461e+01</td>\n",
       "      <td>6.789059</td>\n",
       "      <td>0.0</td>\n",
       "      <td>6.4</td>\n",
       "      <td>10.3</td>\n",
       "      <td>14.0</td>\n",
       "      <td>48.1</td>\n",
       "    </tr>\n",
       "    <tr>\n",
       "      <th>Postcode</th>\n",
       "      <td>34857.0</td>\n",
       "      <td>3.115973e+03</td>\n",
       "      <td>110.292487</td>\n",
       "      <td>0.0</td>\n",
       "      <td>3051.0</td>\n",
       "      <td>3103.0</td>\n",
       "      <td>3156.0</td>\n",
       "      <td>3978.0</td>\n",
       "    </tr>\n",
       "    <tr>\n",
       "      <th>Bathroom</th>\n",
       "      <td>34857.0</td>\n",
       "      <td>1.241358e+00</td>\n",
       "      <td>0.936326</td>\n",
       "      <td>0.0</td>\n",
       "      <td>1.0</td>\n",
       "      <td>1.0</td>\n",
       "      <td>2.0</td>\n",
       "      <td>12.0</td>\n",
       "    </tr>\n",
       "    <tr>\n",
       "      <th>Car</th>\n",
       "      <td>34857.0</td>\n",
       "      <td>1.295952e+00</td>\n",
       "      <td>1.151893</td>\n",
       "      <td>0.0</td>\n",
       "      <td>0.0</td>\n",
       "      <td>1.0</td>\n",
       "      <td>2.0</td>\n",
       "      <td>26.0</td>\n",
       "    </tr>\n",
       "    <tr>\n",
       "      <th>Landsize</th>\n",
       "      <td>34857.0</td>\n",
       "      <td>4.992350e+02</td>\n",
       "      <td>2768.226996</td>\n",
       "      <td>0.0</td>\n",
       "      <td>235.0</td>\n",
       "      <td>330.0</td>\n",
       "      <td>606.0</td>\n",
       "      <td>433014.0</td>\n",
       "    </tr>\n",
       "    <tr>\n",
       "      <th>Propertycount</th>\n",
       "      <td>34857.0</td>\n",
       "      <td>7.572237e+03</td>\n",
       "      <td>4428.457031</td>\n",
       "      <td>0.0</td>\n",
       "      <td>4385.0</td>\n",
       "      <td>6763.0</td>\n",
       "      <td>10412.0</td>\n",
       "      <td>21650.0</td>\n",
       "    </tr>\n",
       "  </tbody>\n",
       "</table>\n",
       "</div>"
      ],
      "text/plain": [
       "                 count          mean            std      min       25%  \\\n",
       "Rooms          34857.0  3.031012e+00       0.969933      1.0       2.0   \n",
       "Price          34857.0  1.035808e+06  582356.748479  85000.0  660000.0   \n",
       "Distance       34857.0  1.118461e+01       6.789059      0.0       6.4   \n",
       "Postcode       34857.0  3.115973e+03     110.292487      0.0    3051.0   \n",
       "Bathroom       34857.0  1.241358e+00       0.936326      0.0       1.0   \n",
       "Car            34857.0  1.295952e+00       1.151893      0.0       0.0   \n",
       "Landsize       34857.0  4.992350e+02    2768.226996      0.0     235.0   \n",
       "Propertycount  34857.0  7.572237e+03    4428.457031      0.0    4385.0   \n",
       "\n",
       "                    50%        75%         max  \n",
       "Rooms               3.0        4.0        16.0  \n",
       "Price          928000.0  1210000.0  11200000.0  \n",
       "Distance           10.3       14.0        48.1  \n",
       "Postcode         3103.0     3156.0      3978.0  \n",
       "Bathroom            1.0        2.0        12.0  \n",
       "Car                 1.0        2.0        26.0  \n",
       "Landsize          330.0      606.0    433014.0  \n",
       "Propertycount    6763.0    10412.0     21650.0  "
      ]
     },
     "execution_count": 39,
     "metadata": {},
     "output_type": "execute_result"
    }
   ],
   "source": [
    "df.describe().T"
   ]
  },
  {
   "cell_type": "markdown",
   "id": "be981ce1-96ec-48ab-b5fb-0e4e43750fdf",
   "metadata": {},
   "source": [
    "#### 1. ROOMS"
   ]
  },
  {
   "cell_type": "code",
   "execution_count": 40,
   "id": "541d7389-88ce-4c72-8b6e-37fe01e09047",
   "metadata": {},
   "outputs": [],
   "source": [
    "lower_out = find_outlier(df[\"Rooms\"])[0]\n",
    "upper_out = find_outlier(df[\"Rooms\"])[1]"
   ]
  },
  {
   "cell_type": "code",
   "execution_count": 41,
   "id": "52ee634e-d804-4bd1-9ecd-23ee2e80db2f",
   "metadata": {},
   "outputs": [
    {
     "name": "stdout",
     "output_type": "stream",
     "text": [
      "Jumlah data : 34857\n",
      "Jumlah outlier : 33\n",
      "Presentase outlier : 0.09 %\n"
     ]
    }
   ],
   "source": [
    "print(\"Jumlah data :\", len(df))\n",
    "print(\"Jumlah outlier :\", len(lower_out)+len(upper_out))\n",
    "print(\"Presentase outlier :\", round((len(lower_out)+len(upper_out))/len(df)*100, 2), \"%\")"
   ]
  },
  {
   "cell_type": "code",
   "execution_count": 42,
   "id": "fba6c98f-db40-4d22-90ea-c1faeacf7c95",
   "metadata": {},
   "outputs": [],
   "source": [
    "df = df[df[\"Rooms\"] < min(upper_out)]"
   ]
  },
  {
   "cell_type": "code",
   "execution_count": 43,
   "id": "3b4f0b1e-1b19-4da4-9ace-8ee38faffd35",
   "metadata": {
    "tags": []
   },
   "outputs": [
    {
     "data": {
      "image/png": "[encoded data removed]",
      "text/plain": [
       "<Figure size 1000x600 with 1 Axes>"
      ]
     },
     "metadata": {},
     "output_type": "display_data"
    }
   ],
   "source": [
    "plt.figure(figsize=(10,6))\n",
    "sns.boxplot(data=df[\"Rooms\"], orient=\"h\")\n",
    "plt.show()"
   ]
  },
  {
   "cell_type": "markdown",
   "id": "876022f4-e314-4bda-83ad-516f5c625309",
   "metadata": {},
   "source": [
    "#### 2. PRICE"
   ]
  },
  {
   "cell_type": "code",
   "execution_count": 44,
   "id": "f69a099f-86dc-448f-a212-a27acfbd3898",
   "metadata": {},
   "outputs": [],
   "source": [
    "lower_out = find_outlier(df[\"Price\"])[0]\n",
    "upper_out = find_outlier(df[\"Price\"])[1]"
   ]
  },
  {
   "cell_type": "code",
   "execution_count": 45,
   "id": "dd429005-6768-45a0-949b-888fd5c55e17",
   "metadata": {},
   "outputs": [
    {
     "name": "stdout",
     "output_type": "stream",
     "text": [
      "Jumlah data : 34824\n",
      "Jumlah outlier : 1780\n",
      "Presentase outlier : 5.11 %\n"
     ]
    }
   ],
   "source": [
    "print(\"Jumlah data :\", len(df))\n",
    "print(\"Jumlah outlier :\", len(lower_out)+len(upper_out))\n",
    "print(\"Presentase outlier :\", round((len(lower_out)+len(upper_out))/len(df)*100, 2), \"%\")"
   ]
  },
  {
   "cell_type": "code",
   "execution_count": 46,
   "id": "513dd439-1076-4360-9b8a-6a589169c7ed",
   "metadata": {},
   "outputs": [],
   "source": [
    "df = df[df[\"Price\"] < min(upper_out)]"
   ]
  },
  {
   "cell_type": "code",
   "execution_count": 47,
   "id": "928080bd-f92d-484c-815d-59a788ad3576",
   "metadata": {
    "tags": []
   },
   "outputs": [
    {
     "data": {
      "image/png": "[encoded data removed]",
      "text/plain": [
       "<Figure size 1000x600 with 1 Axes>"
      ]
     },
     "metadata": {},
     "output_type": "display_data"
    }
   ],
   "source": [
    "plt.figure(figsize=(10,6))\n",
    "sns.boxplot(data=df[\"Price\"], orient=\"h\")\n",
    "plt.show()"
   ]
  },
  {
   "cell_type": "markdown",
   "id": "5e1e0115-9c06-478a-9ae2-9905531093f8",
   "metadata": {},
   "source": [
    "#### 3. DISTANCE"
   ]
  },
  {
   "cell_type": "code",
   "execution_count": 48,
   "id": "8e5078b1-84b8-42bf-a4df-1793c94f4d1f",
   "metadata": {},
   "outputs": [],
   "source": [
    "lower_out = find_outlier(df[\"Distance\"])[0]\n",
    "upper_out = find_outlier(df[\"Distance\"])[1]"
   ]
  },
  {
   "cell_type": "code",
   "execution_count": 49,
   "id": "18b8921c-02fe-4d6a-871f-95b15cf4e95b",
   "metadata": {},
   "outputs": [
    {
     "name": "stdout",
     "output_type": "stream",
     "text": [
      "Jumlah data : 33044\n",
      "Jumlah outlier : 1269\n",
      "Presentase outlier : 3.84 %\n"
     ]
    }
   ],
   "source": [
    "print(\"Jumlah data :\", len(df))\n",
    "print(\"Jumlah outlier :\", len(lower_out)+len(upper_out))\n",
    "print(\"Presentase outlier :\", round((len(lower_out)+len(upper_out))/len(df)*100, 2), \"%\")"
   ]
  },
  {
   "cell_type": "code",
   "execution_count": 50,
   "id": "14b12083-f51a-4d24-a570-7d58fd34acea",
   "metadata": {},
   "outputs": [],
   "source": [
    "df = df[df[\"Distance\"] < min(upper_out)]"
   ]
  },
  {
   "cell_type": "code",
   "execution_count": 51,
   "id": "ac876082-1375-45d0-9c4e-809e315edaa4",
   "metadata": {
    "tags": []
   },
   "outputs": [
    {
     "data": {
      "image/png": "[encoded data removed]",
      "text/plain": [
       "<Figure size 1000x600 with 1 Axes>"
      ]
     },
     "metadata": {},
     "output_type": "display_data"
    }
   ],
   "source": [
    "plt.figure(figsize=(10,6))\n",
    "sns.boxplot(data=df[\"Distance\"], orient=\"h\")\n",
    "plt.show()"
   ]
  },
  {
   "cell_type": "code",
   "execution_count": 52,
   "id": "2685ac48-7847-4003-bbfd-464c65969f1f",
   "metadata": {},
   "outputs": [],
   "source": [
    "lower_out = find_outlier(df[\"Distance\"])[0]\n",
    "upper_out = find_outlier(df[\"Distance\"])[1]"
   ]
  },
  {
   "cell_type": "code",
   "execution_count": 53,
   "id": "56de6f70-2603-4537-b14c-ab2292817369",
   "metadata": {},
   "outputs": [
    {
     "name": "stdout",
     "output_type": "stream",
     "text": [
      "Jumlah data : 31775\n",
      "Jumlah outlier : 195\n",
      "Presentase outlier : 0.61 %\n"
     ]
    }
   ],
   "source": [
    "print(\"Jumlah data :\", len(df))\n",
    "print(\"Jumlah outlier :\", len(lower_out)+len(upper_out))\n",
    "print(\"Presentase outlier :\", round((len(lower_out)+len(upper_out))/len(df)*100, 2), \"%\")"
   ]
  },
  {
   "cell_type": "code",
   "execution_count": 54,
   "id": "cbe61568-b3ef-4dc6-982c-67792482b8b6",
   "metadata": {},
   "outputs": [],
   "source": [
    "df = df[df[\"Distance\"] < min(upper_out)]"
   ]
  },
  {
   "cell_type": "code",
   "execution_count": 55,
   "id": "2faa8b08-041e-4f5c-a306-b92d56410743",
   "metadata": {
    "tags": []
   },
   "outputs": [
    {
     "data": {
      "image/png": "[encoded data removed]",
      "text/plain": [
       "<Figure size 1000x600 with 1 Axes>"
      ]
     },
     "metadata": {},
     "output_type": "display_data"
    }
   ],
   "source": [
    "plt.figure(figsize=(10,6))\n",
    "sns.boxplot(data=df[\"Distance\"], orient=\"h\")\n",
    "plt.show()"
   ]
  },
  {
   "cell_type": "code",
   "execution_count": 56,
   "id": "9bd32164-bafb-4258-86ef-8a47e5a1bcad",
   "metadata": {},
   "outputs": [],
   "source": [
    "lower_out = find_outlier(df[\"Distance\"])[0]\n",
    "upper_out = find_outlier(df[\"Distance\"])[1]"
   ]
  },
  {
   "cell_type": "code",
   "execution_count": 57,
   "id": "2294c40b-69aa-40e5-adbf-90f434e8168b",
   "metadata": {},
   "outputs": [
    {
     "name": "stdout",
     "output_type": "stream",
     "text": [
      "Jumlah data : 31580\n",
      "Jumlah outlier : 44\n",
      "Presentase outlier : 0.14 %\n"
     ]
    }
   ],
   "source": [
    "print(\"Jumlah data :\", len(df))\n",
    "print(\"Jumlah outlier :\", len(lower_out)+len(upper_out))\n",
    "print(\"Presentase outlier :\", round((len(lower_out)+len(upper_out))/len(df)*100, 2), \"%\")"
   ]
  },
  {
   "cell_type": "code",
   "execution_count": 58,
   "id": "44d61217-56d4-4507-afb6-009930778bd8",
   "metadata": {},
   "outputs": [],
   "source": [
    "df = df[df[\"Distance\"] < min(upper_out)]"
   ]
  },
  {
   "cell_type": "code",
   "execution_count": 59,
   "id": "54a6fd86-da34-4393-a845-2f1d52bf6fc2",
   "metadata": {
    "tags": []
   },
   "outputs": [
    {
     "data": {
      "image/png": "[encoded data removed]",
      "text/plain": [
       "<Figure size 1000x600 with 1 Axes>"
      ]
     },
     "metadata": {},
     "output_type": "display_data"
    }
   ],
   "source": [
    "plt.figure(figsize=(10,6))\n",
    "sns.boxplot(data=df[\"Distance\"], orient=\"h\")\n",
    "plt.show()"
   ]
  },
  {
   "cell_type": "markdown",
   "id": "bfb0743f-3ef4-4670-a58f-5857f0d4affc",
   "metadata": {},
   "source": [
    "#### 4. BATHROOM"
   ]
  },
  {
   "cell_type": "code",
   "execution_count": 60,
   "id": "7eea23b9-5a8e-47c8-b6a1-92956a88e58f",
   "metadata": {},
   "outputs": [],
   "source": [
    "lower_out = find_outlier(df[\"Bathroom\"])[0]\n",
    "upper_out = find_outlier(df[\"Bathroom\"])[1]"
   ]
  },
  {
   "cell_type": "code",
   "execution_count": 61,
   "id": "996ecb27-9f72-412f-b0ab-8ad71304cdad",
   "metadata": {},
   "outputs": [
    {
     "name": "stdout",
     "output_type": "stream",
     "text": [
      "Jumlah data : 31536\n",
      "Jumlah outlier : 202\n",
      "Presentase outlier : 0.64 %\n"
     ]
    }
   ],
   "source": [
    "print(\"Jumlah data :\", len(df))\n",
    "print(\"Jumlah outlier :\", len(lower_out)+len(upper_out))\n",
    "print(\"Presentase outlier :\", round((len(lower_out)+len(upper_out))/len(df)*100, 2), \"%\")"
   ]
  },
  {
   "cell_type": "code",
   "execution_count": 62,
   "id": "88319689-b2a3-44de-ba27-a93f3e2e1436",
   "metadata": {
    "tags": []
   },
   "outputs": [
    {
     "data": {
      "image/png": "[encoded data removed]",
      "text/plain": [
       "<Figure size 1000x600 with 1 Axes>"
      ]
     },
     "metadata": {},
     "output_type": "display_data"
    }
   ],
   "source": [
    "plt.figure(figsize=(10,6))\n",
    "sns.boxplot(data=df[\"Bathroom\"], orient=\"h\")\n",
    "plt.show()"
   ]
  },
  {
   "cell_type": "code",
   "execution_count": 63,
   "id": "f6410b00-e021-4fa9-b5ac-edbd0955ccd5",
   "metadata": {},
   "outputs": [
    {
     "name": "stdout",
     "output_type": "stream",
     "text": [
      "Upper Limit : 3.5\n"
     ]
    }
   ],
   "source": [
    "iqr = df[\"Bathroom\"].quantile(.75) - df[\"Bathroom\"].quantile(.25)\n",
    "up_limit = df[\"Bathroom\"].quantile(.75)+1.5*iqr\n",
    "print(\"Upper Limit :\", up_limit)"
   ]
  },
  {
   "cell_type": "code",
   "execution_count": 64,
   "id": "445a1846-8f3f-49c8-8b4a-992eb2c643b8",
   "metadata": {},
   "outputs": [
    {
     "data": {
      "text/plain": [
       "3.0"
      ]
     },
     "execution_count": 64,
     "metadata": {},
     "output_type": "execute_result"
    }
   ],
   "source": [
    "df[\"Bathroom\"].quantile(0.99)"
   ]
  },
  {
   "cell_type": "code",
   "execution_count": 65,
   "id": "6e7cf190-4725-4be5-9c4f-2a59ca451aa1",
   "metadata": {},
   "outputs": [],
   "source": [
    "df1 = df.copy()\n",
    "df1[\"Bathroom_fin\"] = stats.mstats.winsorize(df[\"Bathroom\"], limits=(0, .01))"
   ]
  },
  {
   "cell_type": "code",
   "execution_count": 66,
   "id": "9dde30a1-2aed-41d3-95f4-4f9f991cd390",
   "metadata": {
    "tags": []
   },
   "outputs": [
    {
     "data": {
      "image/png": "[encoded data removed]",
      "text/plain": [
       "<Figure size 1000x600 with 1 Axes>"
      ]
     },
     "metadata": {},
     "output_type": "display_data"
    }
   ],
   "source": [
    "plt.figure(figsize=(10,6))\n",
    "sns.boxplot(data=df1[[\"Bathroom\", \"Bathroom_fin\"]], orient=\"h\")\n",
    "plt.show()"
   ]
  },
  {
   "cell_type": "code",
   "execution_count": 67,
   "id": "ac670bfb-4d01-4581-8c4c-80d11e2dbfa1",
   "metadata": {},
   "outputs": [],
   "source": [
    "df1 = df"
   ]
  },
  {
   "cell_type": "markdown",
   "id": "6000f3be-e500-4eaa-ae75-641c627c1771",
   "metadata": {},
   "source": [
    "#### 7. CAR"
   ]
  },
  {
   "cell_type": "code",
   "execution_count": 68,
   "id": "09bbc87d-2c86-4c15-99cf-225bc39e67bc",
   "metadata": {},
   "outputs": [],
   "source": [
    "lower_out = find_outlier(df[\"Car\"])[0]\n",
    "upper_out = find_outlier(df[\"Car\"])[1]"
   ]
  },
  {
   "cell_type": "code",
   "execution_count": 69,
   "id": "cac43ff7-26c3-4ad9-9d79-2994c8c1cf4c",
   "metadata": {},
   "outputs": [
    {
     "name": "stdout",
     "output_type": "stream",
     "text": [
      "Jumlah data : 31536\n",
      "Jumlah outlier : 156\n",
      "Presentase outlier : 0.49 %\n"
     ]
    }
   ],
   "source": [
    "print(\"Jumlah data :\", len(df))\n",
    "print(\"Jumlah outlier :\", len(lower_out)+len(upper_out))\n",
    "print(\"Presentase outlier :\", round((len(lower_out)+len(upper_out))/len(df)*100, 2), \"%\")"
   ]
  },
  {
   "cell_type": "code",
   "execution_count": 70,
   "id": "1eef25ea-9a10-488e-a220-5d6535aeccd8",
   "metadata": {},
   "outputs": [
    {
     "name": "stdout",
     "output_type": "stream",
     "text": [
      "Upper Limit : 5.0\n"
     ]
    }
   ],
   "source": [
    "iqr = df[\"Car\"].quantile(.75) - df[\"Car\"].quantile(.25)\n",
    "up_limit = df[\"Car\"].quantile(.75)+1.5*iqr\n",
    "print(\"Upper Limit :\", up_limit)"
   ]
  },
  {
   "cell_type": "code",
   "execution_count": 71,
   "id": "e4319b15-7193-45dd-8c3e-f1fcbba1cba0",
   "metadata": {},
   "outputs": [
    {
     "data": {
      "text/plain": [
       "4.0"
      ]
     },
     "execution_count": 71,
     "metadata": {},
     "output_type": "execute_result"
    }
   ],
   "source": [
    "df[\"Car\"].quantile(0.99)"
   ]
  },
  {
   "cell_type": "code",
   "execution_count": 72,
   "id": "1697ac88-6234-4ab6-9fca-a500cd50521d",
   "metadata": {},
   "outputs": [],
   "source": [
    "df1 = df.copy()\n",
    "df1[\"Car_fin\"] = stats.mstats.winsorize(df[\"Car\"], limits=(0, .01))"
   ]
  },
  {
   "cell_type": "code",
   "execution_count": 73,
   "id": "58863f9b-d88d-4b64-bab8-17e71353e029",
   "metadata": {
    "tags": []
   },
   "outputs": [
    {
     "data": {
      "image/png": "[encoded data removed]",
      "text/plain": [
       "<Figure size 1000x600 with 1 Axes>"
      ]
     },
     "metadata": {},
     "output_type": "display_data"
    }
   ],
   "source": [
    "plt.figure(figsize=(10,6))\n",
    "sns.boxplot(data=df1[[\"Car\", \"Car_fin\"]], orient=\"h\")\n",
    "plt.show()"
   ]
  },
  {
   "cell_type": "code",
   "execution_count": 74,
   "id": "66d51133-b912-4cbc-922a-2b9ebd1d681d",
   "metadata": {},
   "outputs": [],
   "source": [
    "df1 = df"
   ]
  },
  {
   "cell_type": "markdown",
   "id": "5549e8a0-8c9b-4f76-ac99-25c6b8fc945d",
   "metadata": {},
   "source": [
    "#### 8. LANDSIZE"
   ]
  },
  {
   "cell_type": "code",
   "execution_count": 75,
   "id": "3de858fe-cb72-47ad-b439-76f480d0b056",
   "metadata": {},
   "outputs": [],
   "source": [
    "lower_out = find_outlier(df[\"Landsize\"])[0]\n",
    "upper_out = find_outlier(df[\"Landsize\"])[1]"
   ]
  },
  {
   "cell_type": "code",
   "execution_count": 76,
   "id": "1758e51e-0597-43a9-aed7-3c6a401b30b6",
   "metadata": {},
   "outputs": [
    {
     "name": "stdout",
     "output_type": "stream",
     "text": [
      "Jumlah data : 31536\n",
      "Jumlah outlier : 606\n",
      "Presentase outlier : 1.92 %\n"
     ]
    }
   ],
   "source": [
    "print(\"Jumlah data :\", len(df))\n",
    "print(\"Jumlah outlier :\", len(lower_out)+len(upper_out))\n",
    "print(\"Presentase outlier :\", round((len(lower_out)+len(upper_out))/len(df)*100, 2), \"%\")"
   ]
  },
  {
   "cell_type": "code",
   "execution_count": 77,
   "id": "ceb3f7fa-2776-42f0-bfae-2644fc39baf3",
   "metadata": {},
   "outputs": [],
   "source": [
    "df = df[df[\"Landsize\"] < min(upper_out)]"
   ]
  },
  {
   "cell_type": "code",
   "execution_count": 78,
   "id": "682f4bd4-47aa-409c-844f-a7af7e2105a8",
   "metadata": {
    "tags": []
   },
   "outputs": [
    {
     "data": {
      "image/png": "[encoded data removed]",
      "text/plain": [
       "<Figure size 1000x600 with 1 Axes>"
      ]
     },
     "metadata": {},
     "output_type": "display_data"
    }
   ],
   "source": [
    "plt.figure(figsize=(10,6))\n",
    "sns.boxplot(data=df[\"Landsize\"], orient=\"h\")\n",
    "plt.show()"
   ]
  },
  {
   "cell_type": "markdown",
   "id": "24343f5b-22cd-4692-9c99-620365ae704c",
   "metadata": {},
   "source": [
    "#### 9. PROPERTYCOUNT"
   ]
  },
  {
   "cell_type": "code",
   "execution_count": 79,
   "id": "21a6126c-68af-4a9a-9ea3-0d2ec1b4ca20",
   "metadata": {},
   "outputs": [],
   "source": [
    "lower_out = find_outlier(df[\"Propertycount\"])[0]\n",
    "upper_out = find_outlier(df[\"Propertycount\"])[1]"
   ]
  },
  {
   "cell_type": "code",
   "execution_count": 80,
   "id": "8cbb511b-7185-4c06-b3d8-8866daf836b4",
   "metadata": {},
   "outputs": [
    {
     "name": "stdout",
     "output_type": "stream",
     "text": [
      "Jumlah data : 30930\n",
      "Jumlah outlier : 840\n",
      "Presentase outlier : 2.72 %\n"
     ]
    }
   ],
   "source": [
    "print(\"Jumlah data :\", len(df))\n",
    "print(\"Jumlah outlier :\", len(lower_out)+len(upper_out))\n",
    "print(\"Presentase outlier :\", round((len(lower_out)+len(upper_out))/len(df)*100, 2), \"%\")"
   ]
  },
  {
   "cell_type": "code",
   "execution_count": 81,
   "id": "4b1e90bb-4bcf-423b-9abe-bd6b3df24e21",
   "metadata": {},
   "outputs": [],
   "source": [
    "df = df[df[\"Propertycount\"] < min(upper_out)]"
   ]
  },
  {
   "cell_type": "code",
   "execution_count": 82,
   "id": "b369bbc5-20c1-4514-acf0-3e2ff3031f48",
   "metadata": {
    "tags": []
   },
   "outputs": [
    {
     "data": {
      "image/png": "[encoded data removed]",
      "text/plain": [
       "<Figure size 1000x600 with 1 Axes>"
      ]
     },
     "metadata": {},
     "output_type": "display_data"
    }
   ],
   "source": [
    "plt.figure(figsize=(10,6))\n",
    "sns.boxplot(data=df[\"Propertycount\"], orient=\"h\")\n",
    "plt.show()"
   ]
  },
  {
   "cell_type": "code",
   "execution_count": 83,
   "id": "18cb818c-eb17-456d-83f2-232f7315f8e3",
   "metadata": {
    "tags": []
   },
   "outputs": [
    {
     "data": {
      "text/html": [
       "<div>\n",
       "<style scoped>\n",
       "    .dataframe tbody tr th:only-of-type {\n",
       "        vertical-align: middle;\n",
       "    }\n",
       "\n",
       "    .dataframe tbody tr th {\n",
       "        vertical-align: top;\n",
       "    }\n",
       "\n",
       "    .dataframe thead th {\n",
       "        text-align: right;\n",
       "    }\n",
       "</style>\n",
       "<table border=\"1\" class=\"dataframe\">\n",
       "  <thead>\n",
       "    <tr style=\"text-align: right;\">\n",
       "      <th></th>\n",
       "      <th>column</th>\n",
       "      <th>null values</th>\n",
       "      <th>unique number</th>\n",
       "      <th>values</th>\n",
       "    </tr>\n",
       "  </thead>\n",
       "  <tbody>\n",
       "    <tr>\n",
       "      <th>0</th>\n",
       "      <td>Rooms</td>\n",
       "      <td>0</td>\n",
       "      <td>7</td>\n",
       "      <td>[2, 3, 4, 1, 6, 5, 7]</td>\n",
       "    </tr>\n",
       "    <tr>\n",
       "      <th>1</th>\n",
       "      <td>Type</td>\n",
       "      <td>0</td>\n",
       "      <td>3</td>\n",
       "      <td>[h, u, t]</td>\n",
       "    </tr>\n",
       "    <tr>\n",
       "      <th>2</th>\n",
       "      <td>Price</td>\n",
       "      <td>0</td>\n",
       "      <td>2312</td>\n",
       "      <td>[1480000.0, 1035000.0, 1465000.0, 850000.0, 16...</td>\n",
       "    </tr>\n",
       "    <tr>\n",
       "      <th>3</th>\n",
       "      <td>Method</td>\n",
       "      <td>0</td>\n",
       "      <td>9</td>\n",
       "      <td>[S, SP, PI, VB, SA, SS, SN, W, PN]</td>\n",
       "    </tr>\n",
       "    <tr>\n",
       "      <th>4</th>\n",
       "      <td>Distance</td>\n",
       "      <td>0</td>\n",
       "      <td>166</td>\n",
       "      <td>[2.5, 13.5, 3.3, 6.4, 13.8, 11.1, 6.3, 5.9, 11...</td>\n",
       "    </tr>\n",
       "    <tr>\n",
       "      <th>5</th>\n",
       "      <td>Postcode</td>\n",
       "      <td>0</td>\n",
       "      <td>156</td>\n",
       "      <td>[3067.0, 3042.0, 3206.0, 3078.0, 3018.0, 3025....</td>\n",
       "    </tr>\n",
       "    <tr>\n",
       "      <th>6</th>\n",
       "      <td>Bathroom</td>\n",
       "      <td>0</td>\n",
       "      <td>9</td>\n",
       "      <td>[1.0, 2.0, 3.0, 0.0, 5.0, 4.0, 6.0, 7.0, 12.0]</td>\n",
       "    </tr>\n",
       "    <tr>\n",
       "      <th>7</th>\n",
       "      <td>Car</td>\n",
       "      <td>0</td>\n",
       "      <td>14</td>\n",
       "      <td>[1.0, 0.0, 2.0, 6.0, 5.0, 4.0, 3.0, 8.0, 7.0, ...</td>\n",
       "    </tr>\n",
       "    <tr>\n",
       "      <th>8</th>\n",
       "      <td>Landsize</td>\n",
       "      <td>0</td>\n",
       "      <td>1095</td>\n",
       "      <td>[202.0, 156.0, 134.0, 94.0, 120.0, 181.0, 245....</td>\n",
       "    </tr>\n",
       "    <tr>\n",
       "      <th>9</th>\n",
       "      <td>CouncilArea</td>\n",
       "      <td>0</td>\n",
       "      <td>27</td>\n",
       "      <td>[Yarra City Council, Moonee Valley City Counci...</td>\n",
       "    </tr>\n",
       "    <tr>\n",
       "      <th>10</th>\n",
       "      <td>Regionname</td>\n",
       "      <td>0</td>\n",
       "      <td>7</td>\n",
       "      <td>[Northern Metropolitan, Western Metropolitan, ...</td>\n",
       "    </tr>\n",
       "    <tr>\n",
       "      <th>11</th>\n",
       "      <td>Propertycount</td>\n",
       "      <td>0</td>\n",
       "      <td>263</td>\n",
       "      <td>[4019.0, 3464.0, 3280.0, 2211.0, 5301.0, 5132....</td>\n",
       "    </tr>\n",
       "  </tbody>\n",
       "</table>\n",
       "</div>"
      ],
      "text/plain": [
       "           column  null values  unique number  \\\n",
       "0           Rooms            0              7   \n",
       "1            Type            0              3   \n",
       "2           Price            0           2312   \n",
       "3          Method            0              9   \n",
       "4        Distance            0            166   \n",
       "5        Postcode            0            156   \n",
       "6        Bathroom            0              9   \n",
       "7             Car            0             14   \n",
       "8        Landsize            0           1095   \n",
       "9     CouncilArea            0             27   \n",
       "10     Regionname            0              7   \n",
       "11  Propertycount            0            263   \n",
       "\n",
       "                                               values  \n",
       "0                               [2, 3, 4, 1, 6, 5, 7]  \n",
       "1                                           [h, u, t]  \n",
       "2   [1480000.0, 1035000.0, 1465000.0, 850000.0, 16...  \n",
       "3                  [S, SP, PI, VB, SA, SS, SN, W, PN]  \n",
       "4   [2.5, 13.5, 3.3, 6.4, 13.8, 11.1, 6.3, 5.9, 11...  \n",
       "5   [3067.0, 3042.0, 3206.0, 3078.0, 3018.0, 3025....  \n",
       "6      [1.0, 2.0, 3.0, 0.0, 5.0, 4.0, 6.0, 7.0, 12.0]  \n",
       "7   [1.0, 0.0, 2.0, 6.0, 5.0, 4.0, 3.0, 8.0, 7.0, ...  \n",
       "8   [202.0, 156.0, 134.0, 94.0, 120.0, 181.0, 245....  \n",
       "9   [Yarra City Council, Moonee Valley City Counci...  \n",
       "10  [Northern Metropolitan, Western Metropolitan, ...  \n",
       "11  [4019.0, 3464.0, 3280.0, 2211.0, 5301.0, 5132....  "
      ]
     },
     "execution_count": 83,
     "metadata": {},
     "output_type": "execute_result"
    }
   ],
   "source": [
    "df1 = []\n",
    "for i in df.columns:\n",
    "    df1.append([i, df[i].isna().sum(), df[i].nunique(), df[i].drop_duplicates().values])\n",
    "\n",
    "df2 = pd.DataFrame(df1, columns=[\"column\", \"null values\", \"unique number\", \"values\"])\n",
    "df2"
   ]
  },
  {
   "cell_type": "code",
   "execution_count": 84,
   "id": "a86e2d3e-c502-40e1-b1b8-cd3bb708868b",
   "metadata": {
    "tags": []
   },
   "outputs": [
    {
     "name": "stdout",
     "output_type": "stream",
     "text": [
      "<class 'pandas.core.frame.DataFrame'>\n",
      "Int64Index: 30090 entries, 1 to 34829\n",
      "Data columns (total 12 columns):\n",
      " #   Column         Non-Null Count  Dtype  \n",
      "---  ------         --------------  -----  \n",
      " 0   Rooms          30090 non-null  int64  \n",
      " 1   Type           30090 non-null  object \n",
      " 2   Price          30090 non-null  float64\n",
      " 3   Method         30090 non-null  object \n",
      " 4   Distance       30090 non-null  float64\n",
      " 5   Postcode       30090 non-null  float64\n",
      " 6   Bathroom       30090 non-null  float64\n",
      " 7   Car            30090 non-null  float64\n",
      " 8   Landsize       30090 non-null  float64\n",
      " 9   CouncilArea    30090 non-null  object \n",
      " 10  Regionname     30090 non-null  object \n",
      " 11  Propertycount  30090 non-null  float64\n",
      "dtypes: float64(7), int64(1), object(4)\n",
      "memory usage: 4.0+ MB\n"
     ]
    }
   ],
   "source": [
    "df.info()"
   ]
  },
  {
   "cell_type": "markdown",
   "id": "fcd8f554-a315-42f5-92ca-7848e3792576",
   "metadata": {},
   "source": [
    "### FEATURE BINNING"
   ]
  },
  {
   "cell_type": "markdown",
   "id": "0c4b43ec-2bf3-426e-af72-f88eae2e1d83",
   "metadata": {},
   "source": [
    "**PRICE**"
   ]
  },
  {
   "cell_type": "code",
   "execution_count": 85,
   "id": "d0a97801-8f69-4400-82fe-ae94e28504e2",
   "metadata": {},
   "outputs": [
    {
     "data": {
      "text/plain": [
       "count    3.009000e+04\n",
       "mean     9.595706e+05\n",
       "std      3.790291e+05\n",
       "min      8.500000e+04\n",
       "25%      6.656250e+05\n",
       "50%      9.280000e+05\n",
       "75%      1.210000e+06\n",
       "max      2.035000e+06\n",
       "Name: Price, dtype: float64"
      ]
     },
     "execution_count": 85,
     "metadata": {},
     "output_type": "execute_result"
    }
   ],
   "source": [
    "df[\"Price\"].describe()"
   ]
  },
  {
   "cell_type": "code",
   "execution_count": 86,
   "id": "b12cb7fd-8088-4b74-b940-890775192f0e",
   "metadata": {},
   "outputs": [],
   "source": [
    "df1 = df.copy()"
   ]
  },
  {
   "cell_type": "code",
   "execution_count": 87,
   "id": "66356c5b-68b9-47d8-9986-bcec976facd1",
   "metadata": {
    "tags": []
   },
   "outputs": [
    {
     "data": {
      "text/html": [
       "<div>\n",
       "<style scoped>\n",
       "    .dataframe tbody tr th:only-of-type {\n",
       "        vertical-align: middle;\n",
       "    }\n",
       "\n",
       "    .dataframe tbody tr th {\n",
       "        vertical-align: top;\n",
       "    }\n",
       "\n",
       "    .dataframe thead th {\n",
       "        text-align: right;\n",
       "    }\n",
       "</style>\n",
       "<table border=\"1\" class=\"dataframe\">\n",
       "  <thead>\n",
       "    <tr style=\"text-align: right;\">\n",
       "      <th></th>\n",
       "      <th>Rooms</th>\n",
       "      <th>Type</th>\n",
       "      <th>Price</th>\n",
       "      <th>Method</th>\n",
       "      <th>Distance</th>\n",
       "      <th>Postcode</th>\n",
       "      <th>Bathroom</th>\n",
       "      <th>Car</th>\n",
       "      <th>Landsize</th>\n",
       "      <th>CouncilArea</th>\n",
       "      <th>Regionname</th>\n",
       "      <th>Propertycount</th>\n",
       "      <th>cut_price</th>\n",
       "    </tr>\n",
       "  </thead>\n",
       "  <tbody>\n",
       "    <tr>\n",
       "      <th>1</th>\n",
       "      <td>2</td>\n",
       "      <td>h</td>\n",
       "      <td>1480000.0</td>\n",
       "      <td>S</td>\n",
       "      <td>2.5</td>\n",
       "      <td>3067.0</td>\n",
       "      <td>1.0</td>\n",
       "      <td>1.0</td>\n",
       "      <td>202.0</td>\n",
       "      <td>Yarra City Council</td>\n",
       "      <td>Northern Metropolitan</td>\n",
       "      <td>4019.0</td>\n",
       "      <td>Expensive</td>\n",
       "    </tr>\n",
       "    <tr>\n",
       "      <th>2</th>\n",
       "      <td>2</td>\n",
       "      <td>h</td>\n",
       "      <td>1035000.0</td>\n",
       "      <td>S</td>\n",
       "      <td>2.5</td>\n",
       "      <td>3067.0</td>\n",
       "      <td>1.0</td>\n",
       "      <td>0.0</td>\n",
       "      <td>156.0</td>\n",
       "      <td>Yarra City Council</td>\n",
       "      <td>Northern Metropolitan</td>\n",
       "      <td>4019.0</td>\n",
       "      <td>Expensive</td>\n",
       "    </tr>\n",
       "    <tr>\n",
       "      <th>4</th>\n",
       "      <td>3</td>\n",
       "      <td>h</td>\n",
       "      <td>1465000.0</td>\n",
       "      <td>SP</td>\n",
       "      <td>2.5</td>\n",
       "      <td>3067.0</td>\n",
       "      <td>2.0</td>\n",
       "      <td>0.0</td>\n",
       "      <td>134.0</td>\n",
       "      <td>Yarra City Council</td>\n",
       "      <td>Northern Metropolitan</td>\n",
       "      <td>4019.0</td>\n",
       "      <td>Expensive</td>\n",
       "    </tr>\n",
       "    <tr>\n",
       "      <th>5</th>\n",
       "      <td>3</td>\n",
       "      <td>h</td>\n",
       "      <td>850000.0</td>\n",
       "      <td>PI</td>\n",
       "      <td>2.5</td>\n",
       "      <td>3067.0</td>\n",
       "      <td>2.0</td>\n",
       "      <td>1.0</td>\n",
       "      <td>94.0</td>\n",
       "      <td>Yarra City Council</td>\n",
       "      <td>Northern Metropolitan</td>\n",
       "      <td>4019.0</td>\n",
       "      <td>Cheap</td>\n",
       "    </tr>\n",
       "    <tr>\n",
       "      <th>6</th>\n",
       "      <td>4</td>\n",
       "      <td>h</td>\n",
       "      <td>1600000.0</td>\n",
       "      <td>VB</td>\n",
       "      <td>2.5</td>\n",
       "      <td>3067.0</td>\n",
       "      <td>1.0</td>\n",
       "      <td>2.0</td>\n",
       "      <td>120.0</td>\n",
       "      <td>Yarra City Council</td>\n",
       "      <td>Northern Metropolitan</td>\n",
       "      <td>4019.0</td>\n",
       "      <td>Very Expensive</td>\n",
       "    </tr>\n",
       "  </tbody>\n",
       "</table>\n",
       "</div>"
      ],
      "text/plain": [
       "   Rooms Type      Price Method  Distance  Postcode  Bathroom  Car  Landsize  \\\n",
       "1      2    h  1480000.0      S       2.5    3067.0       1.0  1.0     202.0   \n",
       "2      2    h  1035000.0      S       2.5    3067.0       1.0  0.0     156.0   \n",
       "4      3    h  1465000.0     SP       2.5    3067.0       2.0  0.0     134.0   \n",
       "5      3    h   850000.0     PI       2.5    3067.0       2.0  1.0      94.0   \n",
       "6      4    h  1600000.0     VB       2.5    3067.0       1.0  2.0     120.0   \n",
       "\n",
       "          CouncilArea             Regionname  Propertycount       cut_price  \n",
       "1  Yarra City Council  Northern Metropolitan         4019.0       Expensive  \n",
       "2  Yarra City Council  Northern Metropolitan         4019.0       Expensive  \n",
       "4  Yarra City Council  Northern Metropolitan         4019.0       Expensive  \n",
       "5  Yarra City Council  Northern Metropolitan         4019.0           Cheap  \n",
       "6  Yarra City Council  Northern Metropolitan         4019.0  Very Expensive  "
      ]
     },
     "execution_count": 87,
     "metadata": {},
     "output_type": "execute_result"
    }
   ],
   "source": [
    "cut_labels = [\"Very Cheap\", \"Cheap\", \"Expensive\", \"Very Expensive\"]\n",
    "\n",
    "cut_bins = [0, 500000, 1000000, 1500000, 2500000]\n",
    "\n",
    "df1[\"cut_price\"] = pd.cut(df1[\"Price\"], bins=cut_bins, labels = cut_labels)\n",
    "df1.head()"
   ]
  },
  {
   "cell_type": "code",
   "execution_count": 88,
   "id": "e801af99-2d97-4cbf-91c8-20f3642dd576",
   "metadata": {
    "tags": []
   },
   "outputs": [
    {
     "data": {
      "text/html": [
       "<div>\n",
       "<style scoped>\n",
       "    .dataframe tbody tr th:only-of-type {\n",
       "        vertical-align: middle;\n",
       "    }\n",
       "\n",
       "    .dataframe tbody tr th {\n",
       "        vertical-align: top;\n",
       "    }\n",
       "\n",
       "    .dataframe thead th {\n",
       "        text-align: right;\n",
       "    }\n",
       "</style>\n",
       "<table border=\"1\" class=\"dataframe\">\n",
       "  <thead>\n",
       "    <tr style=\"text-align: right;\">\n",
       "      <th></th>\n",
       "      <th>Rooms</th>\n",
       "      <th>Type</th>\n",
       "      <th>Price</th>\n",
       "      <th>Method</th>\n",
       "      <th>Distance</th>\n",
       "      <th>Postcode</th>\n",
       "      <th>Bathroom</th>\n",
       "      <th>Car</th>\n",
       "      <th>Landsize</th>\n",
       "      <th>CouncilArea</th>\n",
       "      <th>Regionname</th>\n",
       "      <th>Propertycount</th>\n",
       "      <th>cut_price</th>\n",
       "    </tr>\n",
       "  </thead>\n",
       "  <tbody>\n",
       "    <tr>\n",
       "      <th>1</th>\n",
       "      <td>2</td>\n",
       "      <td>h</td>\n",
       "      <td>1480000.0</td>\n",
       "      <td>S</td>\n",
       "      <td>2.5</td>\n",
       "      <td>3067.0</td>\n",
       "      <td>1.0</td>\n",
       "      <td>1.0</td>\n",
       "      <td>202.0</td>\n",
       "      <td>Yarra City Council</td>\n",
       "      <td>Northern Metropolitan</td>\n",
       "      <td>4019.0</td>\n",
       "      <td>Expensive</td>\n",
       "    </tr>\n",
       "    <tr>\n",
       "      <th>2</th>\n",
       "      <td>2</td>\n",
       "      <td>h</td>\n",
       "      <td>1035000.0</td>\n",
       "      <td>S</td>\n",
       "      <td>2.5</td>\n",
       "      <td>3067.0</td>\n",
       "      <td>1.0</td>\n",
       "      <td>0.0</td>\n",
       "      <td>156.0</td>\n",
       "      <td>Yarra City Council</td>\n",
       "      <td>Northern Metropolitan</td>\n",
       "      <td>4019.0</td>\n",
       "      <td>Expensive</td>\n",
       "    </tr>\n",
       "    <tr>\n",
       "      <th>4</th>\n",
       "      <td>3</td>\n",
       "      <td>h</td>\n",
       "      <td>1465000.0</td>\n",
       "      <td>SP</td>\n",
       "      <td>2.5</td>\n",
       "      <td>3067.0</td>\n",
       "      <td>2.0</td>\n",
       "      <td>0.0</td>\n",
       "      <td>134.0</td>\n",
       "      <td>Yarra City Council</td>\n",
       "      <td>Northern Metropolitan</td>\n",
       "      <td>4019.0</td>\n",
       "      <td>Expensive</td>\n",
       "    </tr>\n",
       "    <tr>\n",
       "      <th>5</th>\n",
       "      <td>3</td>\n",
       "      <td>h</td>\n",
       "      <td>850000.0</td>\n",
       "      <td>PI</td>\n",
       "      <td>2.5</td>\n",
       "      <td>3067.0</td>\n",
       "      <td>2.0</td>\n",
       "      <td>1.0</td>\n",
       "      <td>94.0</td>\n",
       "      <td>Yarra City Council</td>\n",
       "      <td>Northern Metropolitan</td>\n",
       "      <td>4019.0</td>\n",
       "      <td>Cheap</td>\n",
       "    </tr>\n",
       "    <tr>\n",
       "      <th>6</th>\n",
       "      <td>4</td>\n",
       "      <td>h</td>\n",
       "      <td>1600000.0</td>\n",
       "      <td>VB</td>\n",
       "      <td>2.5</td>\n",
       "      <td>3067.0</td>\n",
       "      <td>1.0</td>\n",
       "      <td>2.0</td>\n",
       "      <td>120.0</td>\n",
       "      <td>Yarra City Council</td>\n",
       "      <td>Northern Metropolitan</td>\n",
       "      <td>4019.0</td>\n",
       "      <td>Very Expensive</td>\n",
       "    </tr>\n",
       "  </tbody>\n",
       "</table>\n",
       "</div>"
      ],
      "text/plain": [
       "   Rooms Type      Price Method  Distance  Postcode  Bathroom  Car  Landsize  \\\n",
       "1      2    h  1480000.0      S       2.5    3067.0       1.0  1.0     202.0   \n",
       "2      2    h  1035000.0      S       2.5    3067.0       1.0  0.0     156.0   \n",
       "4      3    h  1465000.0     SP       2.5    3067.0       2.0  0.0     134.0   \n",
       "5      3    h   850000.0     PI       2.5    3067.0       2.0  1.0      94.0   \n",
       "6      4    h  1600000.0     VB       2.5    3067.0       1.0  2.0     120.0   \n",
       "\n",
       "          CouncilArea             Regionname  Propertycount       cut_price  \n",
       "1  Yarra City Council  Northern Metropolitan         4019.0       Expensive  \n",
       "2  Yarra City Council  Northern Metropolitan         4019.0       Expensive  \n",
       "4  Yarra City Council  Northern Metropolitan         4019.0       Expensive  \n",
       "5  Yarra City Council  Northern Metropolitan         4019.0           Cheap  \n",
       "6  Yarra City Council  Northern Metropolitan         4019.0  Very Expensive  "
      ]
     },
     "execution_count": 88,
     "metadata": {},
     "output_type": "execute_result"
    }
   ],
   "source": [
    "df1.head()"
   ]
  },
  {
   "cell_type": "markdown",
   "id": "fe2bb562-e931-4c6d-b5aa-f4076fb6b0fd",
   "metadata": {},
   "source": [
    "**DISTANCE**"
   ]
  },
  {
   "cell_type": "code",
   "execution_count": 89,
   "id": "eec2c7a1-f711-443d-afe2-e8a615bb4d69",
   "metadata": {},
   "outputs": [
    {
     "data": {
      "text/plain": [
       "count    30090.000000\n",
       "mean        10.384294\n",
       "std          5.235868\n",
       "min          0.000000\n",
       "25%          6.300000\n",
       "50%         10.100000\n",
       "75%         13.900000\n",
       "max         25.000000\n",
       "Name: Distance, dtype: float64"
      ]
     },
     "execution_count": 89,
     "metadata": {},
     "output_type": "execute_result"
    }
   ],
   "source": [
    "df1[\"Distance\"].describe()"
   ]
  },
  {
   "cell_type": "code",
   "execution_count": 90,
   "id": "443ecf43-297e-4db2-b188-4ef8f60cd41b",
   "metadata": {
    "tags": []
   },
   "outputs": [
    {
     "data": {
      "text/html": [
       "<div>\n",
       "<style scoped>\n",
       "    .dataframe tbody tr th:only-of-type {\n",
       "        vertical-align: middle;\n",
       "    }\n",
       "\n",
       "    .dataframe tbody tr th {\n",
       "        vertical-align: top;\n",
       "    }\n",
       "\n",
       "    .dataframe thead th {\n",
       "        text-align: right;\n",
       "    }\n",
       "</style>\n",
       "<table border=\"1\" class=\"dataframe\">\n",
       "  <thead>\n",
       "    <tr style=\"text-align: right;\">\n",
       "      <th></th>\n",
       "      <th>Rooms</th>\n",
       "      <th>Type</th>\n",
       "      <th>Price</th>\n",
       "      <th>Method</th>\n",
       "      <th>Distance</th>\n",
       "      <th>Postcode</th>\n",
       "      <th>Bathroom</th>\n",
       "      <th>Car</th>\n",
       "      <th>Landsize</th>\n",
       "      <th>CouncilArea</th>\n",
       "      <th>Regionname</th>\n",
       "      <th>Propertycount</th>\n",
       "      <th>cut_price</th>\n",
       "      <th>cut_distance</th>\n",
       "    </tr>\n",
       "  </thead>\n",
       "  <tbody>\n",
       "    <tr>\n",
       "      <th>1</th>\n",
       "      <td>2</td>\n",
       "      <td>h</td>\n",
       "      <td>1480000.0</td>\n",
       "      <td>S</td>\n",
       "      <td>2.5</td>\n",
       "      <td>3067.0</td>\n",
       "      <td>1.0</td>\n",
       "      <td>1.0</td>\n",
       "      <td>202.0</td>\n",
       "      <td>Yarra City Council</td>\n",
       "      <td>Northern Metropolitan</td>\n",
       "      <td>4019.0</td>\n",
       "      <td>Expensive</td>\n",
       "      <td>Very Close</td>\n",
       "    </tr>\n",
       "    <tr>\n",
       "      <th>2</th>\n",
       "      <td>2</td>\n",
       "      <td>h</td>\n",
       "      <td>1035000.0</td>\n",
       "      <td>S</td>\n",
       "      <td>2.5</td>\n",
       "      <td>3067.0</td>\n",
       "      <td>1.0</td>\n",
       "      <td>0.0</td>\n",
       "      <td>156.0</td>\n",
       "      <td>Yarra City Council</td>\n",
       "      <td>Northern Metropolitan</td>\n",
       "      <td>4019.0</td>\n",
       "      <td>Expensive</td>\n",
       "      <td>Very Close</td>\n",
       "    </tr>\n",
       "    <tr>\n",
       "      <th>4</th>\n",
       "      <td>3</td>\n",
       "      <td>h</td>\n",
       "      <td>1465000.0</td>\n",
       "      <td>SP</td>\n",
       "      <td>2.5</td>\n",
       "      <td>3067.0</td>\n",
       "      <td>2.0</td>\n",
       "      <td>0.0</td>\n",
       "      <td>134.0</td>\n",
       "      <td>Yarra City Council</td>\n",
       "      <td>Northern Metropolitan</td>\n",
       "      <td>4019.0</td>\n",
       "      <td>Expensive</td>\n",
       "      <td>Very Close</td>\n",
       "    </tr>\n",
       "    <tr>\n",
       "      <th>5</th>\n",
       "      <td>3</td>\n",
       "      <td>h</td>\n",
       "      <td>850000.0</td>\n",
       "      <td>PI</td>\n",
       "      <td>2.5</td>\n",
       "      <td>3067.0</td>\n",
       "      <td>2.0</td>\n",
       "      <td>1.0</td>\n",
       "      <td>94.0</td>\n",
       "      <td>Yarra City Council</td>\n",
       "      <td>Northern Metropolitan</td>\n",
       "      <td>4019.0</td>\n",
       "      <td>Cheap</td>\n",
       "      <td>Very Close</td>\n",
       "    </tr>\n",
       "    <tr>\n",
       "      <th>6</th>\n",
       "      <td>4</td>\n",
       "      <td>h</td>\n",
       "      <td>1600000.0</td>\n",
       "      <td>VB</td>\n",
       "      <td>2.5</td>\n",
       "      <td>3067.0</td>\n",
       "      <td>1.0</td>\n",
       "      <td>2.0</td>\n",
       "      <td>120.0</td>\n",
       "      <td>Yarra City Council</td>\n",
       "      <td>Northern Metropolitan</td>\n",
       "      <td>4019.0</td>\n",
       "      <td>Very Expensive</td>\n",
       "      <td>Very Close</td>\n",
       "    </tr>\n",
       "  </tbody>\n",
       "</table>\n",
       "</div>"
      ],
      "text/plain": [
       "   Rooms Type      Price Method  Distance  Postcode  Bathroom  Car  Landsize  \\\n",
       "1      2    h  1480000.0      S       2.5    3067.0       1.0  1.0     202.0   \n",
       "2      2    h  1035000.0      S       2.5    3067.0       1.0  0.0     156.0   \n",
       "4      3    h  1465000.0     SP       2.5    3067.0       2.0  0.0     134.0   \n",
       "5      3    h   850000.0     PI       2.5    3067.0       2.0  1.0      94.0   \n",
       "6      4    h  1600000.0     VB       2.5    3067.0       1.0  2.0     120.0   \n",
       "\n",
       "          CouncilArea             Regionname  Propertycount       cut_price  \\\n",
       "1  Yarra City Council  Northern Metropolitan         4019.0       Expensive   \n",
       "2  Yarra City Council  Northern Metropolitan         4019.0       Expensive   \n",
       "4  Yarra City Council  Northern Metropolitan         4019.0       Expensive   \n",
       "5  Yarra City Council  Northern Metropolitan         4019.0           Cheap   \n",
       "6  Yarra City Council  Northern Metropolitan         4019.0  Very Expensive   \n",
       "\n",
       "  cut_distance  \n",
       "1   Very Close  \n",
       "2   Very Close  \n",
       "4   Very Close  \n",
       "5   Very Close  \n",
       "6   Very Close  "
      ]
     },
     "execution_count": 90,
     "metadata": {},
     "output_type": "execute_result"
    }
   ],
   "source": [
    "cut_labels = [\"Very Close\", \"Close\", \"Standard\", \"Far\", \"So Far\"]\n",
    "\n",
    "cut_bins = [0, 5, 10, 15, 20, 25]\n",
    "\n",
    "df1[\"cut_distance\"] = pd.cut(df1[\"Distance\"], bins=cut_bins, labels = cut_labels)\n",
    "df1.head()"
   ]
  },
  {
   "cell_type": "markdown",
   "id": "7b97b434-7eca-4a25-b4d8-bf14f5edad6a",
   "metadata": {},
   "source": [
    "**LANDSIZE**"
   ]
  },
  {
   "cell_type": "code",
   "execution_count": 91,
   "id": "747bad98-3c47-4eb6-a958-e8b939aa49ac",
   "metadata": {},
   "outputs": [
    {
     "data": {
      "text/plain": [
       "count    30090.000000\n",
       "mean       388.162180\n",
       "std        242.903218\n",
       "min          0.000000\n",
       "25%        235.000000\n",
       "50%        309.000000\n",
       "75%        604.000000\n",
       "max       1157.000000\n",
       "Name: Landsize, dtype: float64"
      ]
     },
     "execution_count": 91,
     "metadata": {},
     "output_type": "execute_result"
    }
   ],
   "source": [
    "df1[\"Landsize\"].describe()"
   ]
  },
  {
   "cell_type": "code",
   "execution_count": 92,
   "id": "f10e4a1b-75c1-4c5e-b9db-d08dfcec7b73",
   "metadata": {
    "tags": []
   },
   "outputs": [
    {
     "data": {
      "text/html": [
       "<div>\n",
       "<style scoped>\n",
       "    .dataframe tbody tr th:only-of-type {\n",
       "        vertical-align: middle;\n",
       "    }\n",
       "\n",
       "    .dataframe tbody tr th {\n",
       "        vertical-align: top;\n",
       "    }\n",
       "\n",
       "    .dataframe thead th {\n",
       "        text-align: right;\n",
       "    }\n",
       "</style>\n",
       "<table border=\"1\" class=\"dataframe\">\n",
       "  <thead>\n",
       "    <tr style=\"text-align: right;\">\n",
       "      <th></th>\n",
       "      <th>Rooms</th>\n",
       "      <th>Type</th>\n",
       "      <th>Price</th>\n",
       "      <th>Method</th>\n",
       "      <th>Distance</th>\n",
       "      <th>Postcode</th>\n",
       "      <th>Bathroom</th>\n",
       "      <th>Car</th>\n",
       "      <th>Landsize</th>\n",
       "      <th>CouncilArea</th>\n",
       "      <th>Regionname</th>\n",
       "      <th>Propertycount</th>\n",
       "      <th>cut_price</th>\n",
       "      <th>cut_distance</th>\n",
       "      <th>cut_landsize</th>\n",
       "    </tr>\n",
       "  </thead>\n",
       "  <tbody>\n",
       "    <tr>\n",
       "      <th>1</th>\n",
       "      <td>2</td>\n",
       "      <td>h</td>\n",
       "      <td>1480000.0</td>\n",
       "      <td>S</td>\n",
       "      <td>2.5</td>\n",
       "      <td>3067.0</td>\n",
       "      <td>1.0</td>\n",
       "      <td>1.0</td>\n",
       "      <td>202.0</td>\n",
       "      <td>Yarra City Council</td>\n",
       "      <td>Northern Metropolitan</td>\n",
       "      <td>4019.0</td>\n",
       "      <td>Expensive</td>\n",
       "      <td>Very Close</td>\n",
       "      <td>Very Small</td>\n",
       "    </tr>\n",
       "    <tr>\n",
       "      <th>2</th>\n",
       "      <td>2</td>\n",
       "      <td>h</td>\n",
       "      <td>1035000.0</td>\n",
       "      <td>S</td>\n",
       "      <td>2.5</td>\n",
       "      <td>3067.0</td>\n",
       "      <td>1.0</td>\n",
       "      <td>0.0</td>\n",
       "      <td>156.0</td>\n",
       "      <td>Yarra City Council</td>\n",
       "      <td>Northern Metropolitan</td>\n",
       "      <td>4019.0</td>\n",
       "      <td>Expensive</td>\n",
       "      <td>Very Close</td>\n",
       "      <td>Very Small</td>\n",
       "    </tr>\n",
       "    <tr>\n",
       "      <th>4</th>\n",
       "      <td>3</td>\n",
       "      <td>h</td>\n",
       "      <td>1465000.0</td>\n",
       "      <td>SP</td>\n",
       "      <td>2.5</td>\n",
       "      <td>3067.0</td>\n",
       "      <td>2.0</td>\n",
       "      <td>0.0</td>\n",
       "      <td>134.0</td>\n",
       "      <td>Yarra City Council</td>\n",
       "      <td>Northern Metropolitan</td>\n",
       "      <td>4019.0</td>\n",
       "      <td>Expensive</td>\n",
       "      <td>Very Close</td>\n",
       "      <td>Very Small</td>\n",
       "    </tr>\n",
       "    <tr>\n",
       "      <th>5</th>\n",
       "      <td>3</td>\n",
       "      <td>h</td>\n",
       "      <td>850000.0</td>\n",
       "      <td>PI</td>\n",
       "      <td>2.5</td>\n",
       "      <td>3067.0</td>\n",
       "      <td>2.0</td>\n",
       "      <td>1.0</td>\n",
       "      <td>94.0</td>\n",
       "      <td>Yarra City Council</td>\n",
       "      <td>Northern Metropolitan</td>\n",
       "      <td>4019.0</td>\n",
       "      <td>Cheap</td>\n",
       "      <td>Very Close</td>\n",
       "      <td>Very Small</td>\n",
       "    </tr>\n",
       "    <tr>\n",
       "      <th>6</th>\n",
       "      <td>4</td>\n",
       "      <td>h</td>\n",
       "      <td>1600000.0</td>\n",
       "      <td>VB</td>\n",
       "      <td>2.5</td>\n",
       "      <td>3067.0</td>\n",
       "      <td>1.0</td>\n",
       "      <td>2.0</td>\n",
       "      <td>120.0</td>\n",
       "      <td>Yarra City Council</td>\n",
       "      <td>Northern Metropolitan</td>\n",
       "      <td>4019.0</td>\n",
       "      <td>Very Expensive</td>\n",
       "      <td>Very Close</td>\n",
       "      <td>Very Small</td>\n",
       "    </tr>\n",
       "  </tbody>\n",
       "</table>\n",
       "</div>"
      ],
      "text/plain": [
       "   Rooms Type      Price Method  Distance  Postcode  Bathroom  Car  Landsize  \\\n",
       "1      2    h  1480000.0      S       2.5    3067.0       1.0  1.0     202.0   \n",
       "2      2    h  1035000.0      S       2.5    3067.0       1.0  0.0     156.0   \n",
       "4      3    h  1465000.0     SP       2.5    3067.0       2.0  0.0     134.0   \n",
       "5      3    h   850000.0     PI       2.5    3067.0       2.0  1.0      94.0   \n",
       "6      4    h  1600000.0     VB       2.5    3067.0       1.0  2.0     120.0   \n",
       "\n",
       "          CouncilArea             Regionname  Propertycount       cut_price  \\\n",
       "1  Yarra City Council  Northern Metropolitan         4019.0       Expensive   \n",
       "2  Yarra City Council  Northern Metropolitan         4019.0       Expensive   \n",
       "4  Yarra City Council  Northern Metropolitan         4019.0       Expensive   \n",
       "5  Yarra City Council  Northern Metropolitan         4019.0           Cheap   \n",
       "6  Yarra City Council  Northern Metropolitan         4019.0  Very Expensive   \n",
       "\n",
       "  cut_distance cut_landsize  \n",
       "1   Very Close   Very Small  \n",
       "2   Very Close   Very Small  \n",
       "4   Very Close   Very Small  \n",
       "5   Very Close   Very Small  \n",
       "6   Very Close   Very Small  "
      ]
     },
     "execution_count": 92,
     "metadata": {},
     "output_type": "execute_result"
    }
   ],
   "source": [
    "cut_labels = [\"Very Small\", \"Small\", \"Big\", \"Very Big\"]\n",
    "\n",
    "cut_bins = [0, 300, 600, 900, 1200]\n",
    "\n",
    "df1[\"cut_landsize\"] = pd.cut(df1[\"Landsize\"], bins=cut_bins, labels = cut_labels)\n",
    "df1.head()"
   ]
  },
  {
   "cell_type": "markdown",
   "id": "42cd6695-0002-4593-a108-52969a96b9ed",
   "metadata": {},
   "source": [
    "### FEATURE SCALLING"
   ]
  },
  {
   "cell_type": "code",
   "execution_count": 93,
   "id": "64c4548e-b79c-4574-9ebc-b3c2f5a75f76",
   "metadata": {},
   "outputs": [],
   "source": [
    "scal = MinMaxScaler()"
   ]
  },
  {
   "cell_type": "code",
   "execution_count": 94,
   "id": "7f06128a-2c7d-42a8-a763-27d66ec9477c",
   "metadata": {},
   "outputs": [],
   "source": [
    "df1[\"price_minmax\"] = scal.fit_transform(df1[[\"Price\"]])\n",
    "df1[\"landsize_minmax\"] = scal.fit_transform(df1[[\"Landsize\"]])"
   ]
  },
  {
   "cell_type": "code",
   "execution_count": 95,
   "id": "f28e23d4-1c0d-4d23-a266-01412a759443",
   "metadata": {},
   "outputs": [
    {
     "data": {
      "text/html": [
       "<div>\n",
       "<style scoped>\n",
       "    .dataframe tbody tr th:only-of-type {\n",
       "        vertical-align: middle;\n",
       "    }\n",
       "\n",
       "    .dataframe tbody tr th {\n",
       "        vertical-align: top;\n",
       "    }\n",
       "\n",
       "    .dataframe thead th {\n",
       "        text-align: right;\n",
       "    }\n",
       "</style>\n",
       "<table border=\"1\" class=\"dataframe\">\n",
       "  <thead>\n",
       "    <tr style=\"text-align: right;\">\n",
       "      <th></th>\n",
       "      <th>Rooms</th>\n",
       "      <th>Type</th>\n",
       "      <th>Price</th>\n",
       "      <th>Method</th>\n",
       "      <th>Distance</th>\n",
       "      <th>Postcode</th>\n",
       "      <th>Bathroom</th>\n",
       "      <th>Car</th>\n",
       "      <th>Landsize</th>\n",
       "      <th>CouncilArea</th>\n",
       "      <th>Regionname</th>\n",
       "      <th>Propertycount</th>\n",
       "      <th>cut_price</th>\n",
       "      <th>cut_distance</th>\n",
       "      <th>cut_landsize</th>\n",
       "      <th>price_minmax</th>\n",
       "      <th>landsize_minmax</th>\n",
       "    </tr>\n",
       "  </thead>\n",
       "  <tbody>\n",
       "    <tr>\n",
       "      <th>1</th>\n",
       "      <td>2</td>\n",
       "      <td>h</td>\n",
       "      <td>1480000.0</td>\n",
       "      <td>S</td>\n",
       "      <td>2.5</td>\n",
       "      <td>3067.0</td>\n",
       "      <td>1.0</td>\n",
       "      <td>1.0</td>\n",
       "      <td>202.0</td>\n",
       "      <td>Yarra City Council</td>\n",
       "      <td>Northern Metropolitan</td>\n",
       "      <td>4019.0</td>\n",
       "      <td>Expensive</td>\n",
       "      <td>Very Close</td>\n",
       "      <td>Very Small</td>\n",
       "      <td>0.715385</td>\n",
       "      <td>0.174589</td>\n",
       "    </tr>\n",
       "    <tr>\n",
       "      <th>2</th>\n",
       "      <td>2</td>\n",
       "      <td>h</td>\n",
       "      <td>1035000.0</td>\n",
       "      <td>S</td>\n",
       "      <td>2.5</td>\n",
       "      <td>3067.0</td>\n",
       "      <td>1.0</td>\n",
       "      <td>0.0</td>\n",
       "      <td>156.0</td>\n",
       "      <td>Yarra City Council</td>\n",
       "      <td>Northern Metropolitan</td>\n",
       "      <td>4019.0</td>\n",
       "      <td>Expensive</td>\n",
       "      <td>Very Close</td>\n",
       "      <td>Very Small</td>\n",
       "      <td>0.487179</td>\n",
       "      <td>0.134831</td>\n",
       "    </tr>\n",
       "    <tr>\n",
       "      <th>4</th>\n",
       "      <td>3</td>\n",
       "      <td>h</td>\n",
       "      <td>1465000.0</td>\n",
       "      <td>SP</td>\n",
       "      <td>2.5</td>\n",
       "      <td>3067.0</td>\n",
       "      <td>2.0</td>\n",
       "      <td>0.0</td>\n",
       "      <td>134.0</td>\n",
       "      <td>Yarra City Council</td>\n",
       "      <td>Northern Metropolitan</td>\n",
       "      <td>4019.0</td>\n",
       "      <td>Expensive</td>\n",
       "      <td>Very Close</td>\n",
       "      <td>Very Small</td>\n",
       "      <td>0.707692</td>\n",
       "      <td>0.115817</td>\n",
       "    </tr>\n",
       "    <tr>\n",
       "      <th>5</th>\n",
       "      <td>3</td>\n",
       "      <td>h</td>\n",
       "      <td>850000.0</td>\n",
       "      <td>PI</td>\n",
       "      <td>2.5</td>\n",
       "      <td>3067.0</td>\n",
       "      <td>2.0</td>\n",
       "      <td>1.0</td>\n",
       "      <td>94.0</td>\n",
       "      <td>Yarra City Council</td>\n",
       "      <td>Northern Metropolitan</td>\n",
       "      <td>4019.0</td>\n",
       "      <td>Cheap</td>\n",
       "      <td>Very Close</td>\n",
       "      <td>Very Small</td>\n",
       "      <td>0.392308</td>\n",
       "      <td>0.081245</td>\n",
       "    </tr>\n",
       "    <tr>\n",
       "      <th>6</th>\n",
       "      <td>4</td>\n",
       "      <td>h</td>\n",
       "      <td>1600000.0</td>\n",
       "      <td>VB</td>\n",
       "      <td>2.5</td>\n",
       "      <td>3067.0</td>\n",
       "      <td>1.0</td>\n",
       "      <td>2.0</td>\n",
       "      <td>120.0</td>\n",
       "      <td>Yarra City Council</td>\n",
       "      <td>Northern Metropolitan</td>\n",
       "      <td>4019.0</td>\n",
       "      <td>Very Expensive</td>\n",
       "      <td>Very Close</td>\n",
       "      <td>Very Small</td>\n",
       "      <td>0.776923</td>\n",
       "      <td>0.103717</td>\n",
       "    </tr>\n",
       "  </tbody>\n",
       "</table>\n",
       "</div>"
      ],
      "text/plain": [
       "   Rooms Type      Price Method  Distance  Postcode  Bathroom  Car  Landsize  \\\n",
       "1      2    h  1480000.0      S       2.5    3067.0       1.0  1.0     202.0   \n",
       "2      2    h  1035000.0      S       2.5    3067.0       1.0  0.0     156.0   \n",
       "4      3    h  1465000.0     SP       2.5    3067.0       2.0  0.0     134.0   \n",
       "5      3    h   850000.0     PI       2.5    3067.0       2.0  1.0      94.0   \n",
       "6      4    h  1600000.0     VB       2.5    3067.0       1.0  2.0     120.0   \n",
       "\n",
       "          CouncilArea             Regionname  Propertycount       cut_price  \\\n",
       "1  Yarra City Council  Northern Metropolitan         4019.0       Expensive   \n",
       "2  Yarra City Council  Northern Metropolitan         4019.0       Expensive   \n",
       "4  Yarra City Council  Northern Metropolitan         4019.0       Expensive   \n",
       "5  Yarra City Council  Northern Metropolitan         4019.0           Cheap   \n",
       "6  Yarra City Council  Northern Metropolitan         4019.0  Very Expensive   \n",
       "\n",
       "  cut_distance cut_landsize  price_minmax  landsize_minmax  \n",
       "1   Very Close   Very Small      0.715385         0.174589  \n",
       "2   Very Close   Very Small      0.487179         0.134831  \n",
       "4   Very Close   Very Small      0.707692         0.115817  \n",
       "5   Very Close   Very Small      0.392308         0.081245  \n",
       "6   Very Close   Very Small      0.776923         0.103717  "
      ]
     },
     "execution_count": 95,
     "metadata": {},
     "output_type": "execute_result"
    }
   ],
   "source": [
    "df1.head()"
   ]
  },
  {
   "cell_type": "markdown",
   "id": "abe4287d-4252-48a0-aa53-6dbc76fb2c8c",
   "metadata": {},
   "source": [
    "### FEATURE ENCODING"
   ]
  },
  {
   "cell_type": "code",
   "execution_count": 96,
   "id": "b9e654d3-1316-4199-b316-25125bc56289",
   "metadata": {},
   "outputs": [
    {
     "name": "stdout",
     "output_type": "stream",
     "text": [
      "<class 'pandas.core.frame.DataFrame'>\n",
      "Int64Index: 30090 entries, 1 to 34829\n",
      "Data columns (total 17 columns):\n",
      " #   Column           Non-Null Count  Dtype   \n",
      "---  ------           --------------  -----   \n",
      " 0   Rooms            30090 non-null  int64   \n",
      " 1   Type             30090 non-null  object  \n",
      " 2   Price            30090 non-null  float64 \n",
      " 3   Method           30090 non-null  object  \n",
      " 4   Distance         30090 non-null  float64 \n",
      " 5   Postcode         30090 non-null  float64 \n",
      " 6   Bathroom         30090 non-null  float64 \n",
      " 7   Car              30090 non-null  float64 \n",
      " 8   Landsize         30090 non-null  float64 \n",
      " 9   CouncilArea      30090 non-null  object  \n",
      " 10  Regionname       30090 non-null  object  \n",
      " 11  Propertycount    30090 non-null  float64 \n",
      " 12  cut_price        30090 non-null  category\n",
      " 13  cut_distance     30014 non-null  category\n",
      " 14  cut_landsize     27700 non-null  category\n",
      " 15  price_minmax     30090 non-null  float64 \n",
      " 16  landsize_minmax  30090 non-null  float64 \n",
      "dtypes: category(3), float64(9), int64(1), object(4)\n",
      "memory usage: 4.5+ MB\n"
     ]
    }
   ],
   "source": [
    "df1.info()"
   ]
  },
  {
   "cell_type": "code",
   "execution_count": 101,
   "id": "9cc54749-2f8f-402d-951d-3e2d72b6a4fd",
   "metadata": {},
   "outputs": [],
   "source": [
    "for i in df1.columns[df1.dtypes == object]:\n",
    "    df1[i] = LabelEncoder().fit_transform(df1[i])"
   ]
  },
  {
   "cell_type": "code",
   "execution_count": 102,
   "id": "ef00c6e4-6509-4155-b3b4-854153837488",
   "metadata": {},
   "outputs": [
    {
     "data": {
      "text/html": [
       "<div>\n",
       "<style scoped>\n",
       "    .dataframe tbody tr th:only-of-type {\n",
       "        vertical-align: middle;\n",
       "    }\n",
       "\n",
       "    .dataframe tbody tr th {\n",
       "        vertical-align: top;\n",
       "    }\n",
       "\n",
       "    .dataframe thead th {\n",
       "        text-align: right;\n",
       "    }\n",
       "</style>\n",
       "<table border=\"1\" class=\"dataframe\">\n",
       "  <thead>\n",
       "    <tr style=\"text-align: right;\">\n",
       "      <th></th>\n",
       "      <th>Rooms</th>\n",
       "      <th>Type</th>\n",
       "      <th>Price</th>\n",
       "      <th>Method</th>\n",
       "      <th>Distance</th>\n",
       "      <th>Postcode</th>\n",
       "      <th>Bathroom</th>\n",
       "      <th>Car</th>\n",
       "      <th>Landsize</th>\n",
       "      <th>CouncilArea</th>\n",
       "      <th>Regionname</th>\n",
       "      <th>Propertycount</th>\n",
       "      <th>cut_price</th>\n",
       "      <th>cut_distance</th>\n",
       "      <th>cut_landsize</th>\n",
       "      <th>price_minmax</th>\n",
       "      <th>landsize_minmax</th>\n",
       "      <th>type_enc</th>\n",
       "    </tr>\n",
       "  </thead>\n",
       "  <tbody>\n",
       "    <tr>\n",
       "      <th>1</th>\n",
       "      <td>2</td>\n",
       "      <td>0</td>\n",
       "      <td>1480000.0</td>\n",
       "      <td>2</td>\n",
       "      <td>2.5</td>\n",
       "      <td>3067.0</td>\n",
       "      <td>1.0</td>\n",
       "      <td>1.0</td>\n",
       "      <td>202.0</td>\n",
       "      <td>25</td>\n",
       "      <td>1</td>\n",
       "      <td>4019.0</td>\n",
       "      <td>Expensive</td>\n",
       "      <td>Very Close</td>\n",
       "      <td>Very Small</td>\n",
       "      <td>0.715385</td>\n",
       "      <td>0.174589</td>\n",
       "      <td>0</td>\n",
       "    </tr>\n",
       "    <tr>\n",
       "      <th>2</th>\n",
       "      <td>2</td>\n",
       "      <td>0</td>\n",
       "      <td>1035000.0</td>\n",
       "      <td>2</td>\n",
       "      <td>2.5</td>\n",
       "      <td>3067.0</td>\n",
       "      <td>1.0</td>\n",
       "      <td>0.0</td>\n",
       "      <td>156.0</td>\n",
       "      <td>25</td>\n",
       "      <td>1</td>\n",
       "      <td>4019.0</td>\n",
       "      <td>Expensive</td>\n",
       "      <td>Very Close</td>\n",
       "      <td>Very Small</td>\n",
       "      <td>0.487179</td>\n",
       "      <td>0.134831</td>\n",
       "      <td>0</td>\n",
       "    </tr>\n",
       "    <tr>\n",
       "      <th>4</th>\n",
       "      <td>3</td>\n",
       "      <td>0</td>\n",
       "      <td>1465000.0</td>\n",
       "      <td>5</td>\n",
       "      <td>2.5</td>\n",
       "      <td>3067.0</td>\n",
       "      <td>2.0</td>\n",
       "      <td>0.0</td>\n",
       "      <td>134.0</td>\n",
       "      <td>25</td>\n",
       "      <td>1</td>\n",
       "      <td>4019.0</td>\n",
       "      <td>Expensive</td>\n",
       "      <td>Very Close</td>\n",
       "      <td>Very Small</td>\n",
       "      <td>0.707692</td>\n",
       "      <td>0.115817</td>\n",
       "      <td>0</td>\n",
       "    </tr>\n",
       "    <tr>\n",
       "      <th>5</th>\n",
       "      <td>3</td>\n",
       "      <td>0</td>\n",
       "      <td>850000.0</td>\n",
       "      <td>0</td>\n",
       "      <td>2.5</td>\n",
       "      <td>3067.0</td>\n",
       "      <td>2.0</td>\n",
       "      <td>1.0</td>\n",
       "      <td>94.0</td>\n",
       "      <td>25</td>\n",
       "      <td>1</td>\n",
       "      <td>4019.0</td>\n",
       "      <td>Cheap</td>\n",
       "      <td>Very Close</td>\n",
       "      <td>Very Small</td>\n",
       "      <td>0.392308</td>\n",
       "      <td>0.081245</td>\n",
       "      <td>0</td>\n",
       "    </tr>\n",
       "    <tr>\n",
       "      <th>6</th>\n",
       "      <td>4</td>\n",
       "      <td>0</td>\n",
       "      <td>1600000.0</td>\n",
       "      <td>7</td>\n",
       "      <td>2.5</td>\n",
       "      <td>3067.0</td>\n",
       "      <td>1.0</td>\n",
       "      <td>2.0</td>\n",
       "      <td>120.0</td>\n",
       "      <td>25</td>\n",
       "      <td>1</td>\n",
       "      <td>4019.0</td>\n",
       "      <td>Very Expensive</td>\n",
       "      <td>Very Close</td>\n",
       "      <td>Very Small</td>\n",
       "      <td>0.776923</td>\n",
       "      <td>0.103717</td>\n",
       "      <td>0</td>\n",
       "    </tr>\n",
       "  </tbody>\n",
       "</table>\n",
       "</div>"
      ],
      "text/plain": [
       "   Rooms  Type      Price  Method  Distance  Postcode  Bathroom  Car  \\\n",
       "1      2     0  1480000.0       2       2.5    3067.0       1.0  1.0   \n",
       "2      2     0  1035000.0       2       2.5    3067.0       1.0  0.0   \n",
       "4      3     0  1465000.0       5       2.5    3067.0       2.0  0.0   \n",
       "5      3     0   850000.0       0       2.5    3067.0       2.0  1.0   \n",
       "6      4     0  1600000.0       7       2.5    3067.0       1.0  2.0   \n",
       "\n",
       "   Landsize  CouncilArea  Regionname  Propertycount       cut_price  \\\n",
       "1     202.0           25           1         4019.0       Expensive   \n",
       "2     156.0           25           1         4019.0       Expensive   \n",
       "4     134.0           25           1         4019.0       Expensive   \n",
       "5      94.0           25           1         4019.0           Cheap   \n",
       "6     120.0           25           1         4019.0  Very Expensive   \n",
       "\n",
       "  cut_distance cut_landsize  price_minmax  landsize_minmax  type_enc  \n",
       "1   Very Close   Very Small      0.715385         0.174589         0  \n",
       "2   Very Close   Very Small      0.487179         0.134831         0  \n",
       "4   Very Close   Very Small      0.707692         0.115817         0  \n",
       "5   Very Close   Very Small      0.392308         0.081245         0  \n",
       "6   Very Close   Very Small      0.776923         0.103717         0  "
      ]
     },
     "execution_count": 102,
     "metadata": {},
     "output_type": "execute_result"
    }
   ],
   "source": [
    "df1.head()"
   ]
  },
  {
   "cell_type": "code",
   "execution_count": 103,
   "id": "63b79e55-9876-4082-8aec-20ed65a8220a",
   "metadata": {},
   "outputs": [
    {
     "name": "stdout",
     "output_type": "stream",
     "text": [
      "<class 'pandas.core.frame.DataFrame'>\n",
      "Int64Index: 30090 entries, 1 to 34829\n",
      "Data columns (total 18 columns):\n",
      " #   Column           Non-Null Count  Dtype   \n",
      "---  ------           --------------  -----   \n",
      " 0   Rooms            30090 non-null  int64   \n",
      " 1   Type             30090 non-null  int32   \n",
      " 2   Price            30090 non-null  float64 \n",
      " 3   Method           30090 non-null  int32   \n",
      " 4   Distance         30090 non-null  float64 \n",
      " 5   Postcode         30090 non-null  float64 \n",
      " 6   Bathroom         30090 non-null  float64 \n",
      " 7   Car              30090 non-null  float64 \n",
      " 8   Landsize         30090 non-null  float64 \n",
      " 9   CouncilArea      30090 non-null  int32   \n",
      " 10  Regionname       30090 non-null  int32   \n",
      " 11  Propertycount    30090 non-null  float64 \n",
      " 12  cut_price        30090 non-null  category\n",
      " 13  cut_distance     30014 non-null  category\n",
      " 14  cut_landsize     27700 non-null  category\n",
      " 15  price_minmax     30090 non-null  float64 \n",
      " 16  landsize_minmax  30090 non-null  float64 \n",
      " 17  type_enc         30090 non-null  int32   \n",
      "dtypes: category(3), float64(9), int32(5), int64(1)\n",
      "memory usage: 4.2 MB\n"
     ]
    }
   ],
   "source": [
    "df1.info()"
   ]
  },
  {
   "cell_type": "code",
   "execution_count": 107,
   "id": "c35853a1-8a1e-4752-b14d-b8741d725b6a",
   "metadata": {},
   "outputs": [
    {
     "data": {
      "text/plain": [
       "<AxesSubplot:>"
      ]
     },
     "execution_count": 107,
     "metadata": {},
     "output_type": "execute_result"
    },
    {
     "data": {
      "image/png": "[encoded data removed]",
      "text/plain": [
       "<Figure size 1000x1000 with 2 Axes>"
      ]
     },
     "metadata": {},
     "output_type": "display_data"
    }
   ],
   "source": [
    "plt.figure(figsize=(10,10))\n",
    "sns.heatmap(df1.corr(\"spearman\"), annot=True)"
   ]
  },
  {
   "cell_type": "code",
   "execution_count": null,
   "id": "574ea7ef-0b31-40a1-aa3e-3dccf599581d",
   "metadata": {},
   "outputs": [],
   "source": []
  }
 ],
 "metadata": {
  "kernelspec": {
   "display_name": "Python 3 (ipykernel)",
   "language": "python",
   "name": "python3"
  },
  "language_info": {
   "codemirror_mode": {
    "name": "ipython",
    "version": 3
   },
   "file_extension": ".py",
   "mimetype": "text/x-python",
   "name": "python",
   "nbconvert_exporter": "python",
   "pygments_lexer": "ipython3",
   "version": "3.9.12"
  }
 },
 "nbformat": 4,
 "nbformat_minor": 5
}
